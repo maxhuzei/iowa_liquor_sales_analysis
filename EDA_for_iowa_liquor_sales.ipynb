{
  "nbformat": 4,
  "nbformat_minor": 0,
  "metadata": {
    "colab": {
      "name": "EDA_for_iowa_liquor_sales.ipynb",
      "provenance": [],
      "collapsed_sections": []
    },
    "kernelspec": {
      "name": "python3",
      "display_name": "Python 3"
    },
    "accelerator": "TPU"
  },
  "cells": [
    {
      "cell_type": "code",
      "metadata": {
        "id": "k8dl5qrG7BfM",
        "colab_type": "code",
        "colab": {}
      },
      "source": [
        "#libraries for data processing\n",
        "import numpy as np\n",
        "import pandas as pd\n",
        "\n",
        "#for data importing\n",
        "from google.cloud import bigquery\n",
        "import google.auth\n",
        "\n",
        "#for visualization\n",
        "import matplotlib.pyplot as plt\n",
        "import seaborn as sns\n",
        "\n",
        "#different\n",
        "import warnings\n",
        "warnings.filterwarnings('ignore')"
      ],
      "execution_count": 0,
      "outputs": []
    },
    {
      "cell_type": "markdown",
      "metadata": {
        "id": "uxr9X5VBlRL7",
        "colab_type": "text"
      },
      "source": [
        "Creating bigquery API client for data importing. For the authorisation will be used special service account - the .json keys can be found in the root of repository with name service_key.json."
      ]
    },
    {
      "cell_type": "code",
      "metadata": {
        "id": "3bZcEwfPlBWk",
        "colab_type": "code",
        "colab": {}
      },
      "source": [
        "try:\n",
        "  # if service key file uploaded to Google drive and drive mounted to the collab\n",
        "  bq_client = bigquery.Client.from_service_account_json('/content/drive/My Drive/Colab Notebooks/service_key.json')\n",
        "except FileNotFoundError:\n",
        "  # for running the repository content on local machine\n",
        "  bq_client = bigquery.Client.from_service_account_json('./service_key.json')"
      ],
      "execution_count": 0,
      "outputs": []
    },
    {
      "cell_type": "markdown",
      "metadata": {
        "id": "Yj6jwVQGm5f3",
        "colab_type": "text"
      },
      "source": [
        "Collecting the initial piece of data (10k rows) to explore the structure and values of data:"
      ]
    },
    {
      "cell_type": "code",
      "metadata": {
        "id": "bqNV07fMFrw6",
        "colab_type": "code",
        "outputId": "5b3cf536-fec7-4930-a7e1-a3375fadab53",
        "colab": {
          "base_uri": "https://localhost:8080/",
          "height": 532
        }
      },
      "source": [
        "init_query = \"SELECT * FROM bigquery-public-data.iowa_liquor_sales.sales LIMIT 10000\"\n",
        "init_df = bq_client.query(init_query).result().to_dataframe()\n",
        "init_df.info()"
      ],
      "execution_count": 40,
      "outputs": [
        {
          "output_type": "stream",
          "text": [
            "<class 'pandas.core.frame.DataFrame'>\n",
            "RangeIndex: 10000 entries, 0 to 9999\n",
            "Data columns (total 24 columns):\n",
            "invoice_and_item_number    10000 non-null object\n",
            "date                       10000 non-null object\n",
            "store_number               10000 non-null object\n",
            "store_name                 10000 non-null object\n",
            "address                    9959 non-null object\n",
            "city                       9959 non-null object\n",
            "zip_code                   9959 non-null object\n",
            "store_location             9069 non-null object\n",
            "county_number              9929 non-null object\n",
            "county                     9929 non-null object\n",
            "category                   9670 non-null object\n",
            "category_name              9622 non-null object\n",
            "vendor_number              10000 non-null object\n",
            "vendor_name                10000 non-null object\n",
            "item_number                10000 non-null object\n",
            "item_description           10000 non-null object\n",
            "pack                       10000 non-null int64\n",
            "bottle_volume_ml           10000 non-null int64\n",
            "state_bottle_cost          10000 non-null float64\n",
            "state_bottle_retail        10000 non-null float64\n",
            "bottles_sold               10000 non-null int64\n",
            "sale_dollars               10000 non-null float64\n",
            "volume_sold_liters         10000 non-null float64\n",
            "volume_sold_gallons        10000 non-null float64\n",
            "dtypes: float64(5), int64(3), object(16)\n",
            "memory usage: 1.8+ MB\n"
          ],
          "name": "stdout"
        }
      ]
    },
    {
      "cell_type": "code",
      "metadata": {
        "id": "VtPPCWC97QlX",
        "colab_type": "code",
        "outputId": "06aa7f16-dd85-456e-ac7b-b9b1f1065aa8",
        "colab": {
          "base_uri": "https://localhost:8080/",
          "height": 417
        }
      },
      "source": [
        "init_df.head()"
      ],
      "execution_count": 41,
      "outputs": [
        {
          "output_type": "execute_result",
          "data": {
            "text/html": [
              "<div>\n",
              "<style scoped>\n",
              "    .dataframe tbody tr th:only-of-type {\n",
              "        vertical-align: middle;\n",
              "    }\n",
              "\n",
              "    .dataframe tbody tr th {\n",
              "        vertical-align: top;\n",
              "    }\n",
              "\n",
              "    .dataframe thead th {\n",
              "        text-align: right;\n",
              "    }\n",
              "</style>\n",
              "<table border=\"1\" class=\"dataframe\">\n",
              "  <thead>\n",
              "    <tr style=\"text-align: right;\">\n",
              "      <th></th>\n",
              "      <th>invoice_and_item_number</th>\n",
              "      <th>date</th>\n",
              "      <th>store_number</th>\n",
              "      <th>store_name</th>\n",
              "      <th>address</th>\n",
              "      <th>city</th>\n",
              "      <th>zip_code</th>\n",
              "      <th>store_location</th>\n",
              "      <th>county_number</th>\n",
              "      <th>county</th>\n",
              "      <th>category</th>\n",
              "      <th>category_name</th>\n",
              "      <th>vendor_number</th>\n",
              "      <th>vendor_name</th>\n",
              "      <th>item_number</th>\n",
              "      <th>item_description</th>\n",
              "      <th>pack</th>\n",
              "      <th>bottle_volume_ml</th>\n",
              "      <th>state_bottle_cost</th>\n",
              "      <th>state_bottle_retail</th>\n",
              "      <th>bottles_sold</th>\n",
              "      <th>sale_dollars</th>\n",
              "      <th>volume_sold_liters</th>\n",
              "      <th>volume_sold_gallons</th>\n",
              "    </tr>\n",
              "  </thead>\n",
              "  <tbody>\n",
              "    <tr>\n",
              "      <th>0</th>\n",
              "      <td>S14073400068</td>\n",
              "      <td>2013-10-11</td>\n",
              "      <td>2806</td>\n",
              "      <td>Osco #881 / Clinton</td>\n",
              "      <td>1307 N SECOND</td>\n",
              "      <td>CLINTON</td>\n",
              "      <td>52732</td>\n",
              "      <td>POINT (-90.184797 41.858932)</td>\n",
              "      <td>23</td>\n",
              "      <td>Clinton</td>\n",
              "      <td>1701100</td>\n",
              "      <td>DECANTERS &amp; SPECIALTY PACKAGES</td>\n",
              "      <td>461</td>\n",
              "      <td>Campari(skyy)</td>\n",
              "      <td>2916</td>\n",
              "      <td>Carolan's Irish Cream w/2 Glasses</td>\n",
              "      <td>6</td>\n",
              "      <td>750</td>\n",
              "      <td>7.70</td>\n",
              "      <td>11.55</td>\n",
              "      <td>18</td>\n",
              "      <td>207.90</td>\n",
              "      <td>13.50</td>\n",
              "      <td>3.57</td>\n",
              "    </tr>\n",
              "    <tr>\n",
              "      <th>1</th>\n",
              "      <td>INV-00074400011</td>\n",
              "      <td>2016-08-31</td>\n",
              "      <td>5176</td>\n",
              "      <td>Smokin' Joe's #15 Tobacco &amp; Liquor O</td>\n",
              "      <td>455, Edgewood Rd NW</td>\n",
              "      <td>Cedar Rapids</td>\n",
              "      <td>52405</td>\n",
              "      <td>POINT (-91.715903 41.97805)</td>\n",
              "      <td>57</td>\n",
              "      <td>LINN</td>\n",
              "      <td>1031000</td>\n",
              "      <td>American Vodka</td>\n",
              "      <td>300</td>\n",
              "      <td>McCormick Distilling Co.</td>\n",
              "      <td>36904</td>\n",
              "      <td>Mccormick Vodka Pet</td>\n",
              "      <td>24</td>\n",
              "      <td>375</td>\n",
              "      <td>1.80</td>\n",
              "      <td>2.70</td>\n",
              "      <td>1</td>\n",
              "      <td>64.80</td>\n",
              "      <td>0.37</td>\n",
              "      <td>0.09</td>\n",
              "    </tr>\n",
              "    <tr>\n",
              "      <th>2</th>\n",
              "      <td>INV-17044200004</td>\n",
              "      <td>2019-01-22</td>\n",
              "      <td>4677</td>\n",
              "      <td>Costco Wholesale #1111 / Coralville</td>\n",
              "      <td>2900 Heartland Dr</td>\n",
              "      <td>Coralville</td>\n",
              "      <td>52241</td>\n",
              "      <td>POINT (-91.61494100000002 41.698028)</td>\n",
              "      <td>52</td>\n",
              "      <td>JOHNSON</td>\n",
              "      <td>1032000</td>\n",
              "      <td>Imported Vodka</td>\n",
              "      <td>217</td>\n",
              "      <td>MISA Imports Inc</td>\n",
              "      <td>987514</td>\n",
              "      <td>Kirkland Signature French Vodka</td>\n",
              "      <td>6</td>\n",
              "      <td>1750</td>\n",
              "      <td>14.48</td>\n",
              "      <td>21.72</td>\n",
              "      <td>576</td>\n",
              "      <td>12510.72</td>\n",
              "      <td>1008.00</td>\n",
              "      <td>266.28</td>\n",
              "    </tr>\n",
              "    <tr>\n",
              "      <th>3</th>\n",
              "      <td>INV-17127900040</td>\n",
              "      <td>2019-01-24</td>\n",
              "      <td>4877</td>\n",
              "      <td>World Liquor &amp; Tobacco</td>\n",
              "      <td>1775 NW 86th St</td>\n",
              "      <td>Clive</td>\n",
              "      <td>50325</td>\n",
              "      <td>POINT (-93.736232 41.607853)</td>\n",
              "      <td>77</td>\n",
              "      <td>POLK</td>\n",
              "      <td>1701100</td>\n",
              "      <td>Temporary &amp; Specialty Packages</td>\n",
              "      <td>370</td>\n",
              "      <td>PERNOD RICARD USA</td>\n",
              "      <td>100444</td>\n",
              "      <td>Jameson w/2-50mls</td>\n",
              "      <td>6</td>\n",
              "      <td>850</td>\n",
              "      <td>15.99</td>\n",
              "      <td>23.99</td>\n",
              "      <td>6</td>\n",
              "      <td>143.94</td>\n",
              "      <td>5.10</td>\n",
              "      <td>1.34</td>\n",
              "    </tr>\n",
              "    <tr>\n",
              "      <th>4</th>\n",
              "      <td>S22019800059</td>\n",
              "      <td>2014-10-27</td>\n",
              "      <td>2539</td>\n",
              "      <td>Hy-Vee Food Store / iowa Falls</td>\n",
              "      <td>HIGHWAY 65 SOUTH</td>\n",
              "      <td>IOWA FALLS</td>\n",
              "      <td>50126</td>\n",
              "      <td>None</td>\n",
              "      <td>42</td>\n",
              "      <td>Hardin</td>\n",
              "      <td>1701100</td>\n",
              "      <td>DECANTERS &amp; SPECIALTY PACKAGES</td>\n",
              "      <td>420</td>\n",
              "      <td>Moet Hennessy USA, Inc.</td>\n",
              "      <td>561</td>\n",
              "      <td>Ardbeg 10YR Exploration Pack</td>\n",
              "      <td>6</td>\n",
              "      <td>850</td>\n",
              "      <td>25.98</td>\n",
              "      <td>38.97</td>\n",
              "      <td>6</td>\n",
              "      <td>233.82</td>\n",
              "      <td>5.10</td>\n",
              "      <td>1.35</td>\n",
              "    </tr>\n",
              "  </tbody>\n",
              "</table>\n",
              "</div>"
            ],
            "text/plain": [
              "  invoice_and_item_number        date  ... volume_sold_liters volume_sold_gallons\n",
              "0            S14073400068  2013-10-11  ...              13.50                3.57\n",
              "1         INV-00074400011  2016-08-31  ...               0.37                0.09\n",
              "2         INV-17044200004  2019-01-22  ...            1008.00              266.28\n",
              "3         INV-17127900040  2019-01-24  ...               5.10                1.34\n",
              "4            S22019800059  2014-10-27  ...               5.10                1.35\n",
              "\n",
              "[5 rows x 24 columns]"
            ]
          },
          "metadata": {
            "tags": []
          },
          "execution_count": 41
        }
      ]
    },
    {
      "cell_type": "code",
      "metadata": {
        "id": "yhp7QZf0ps_D",
        "colab_type": "code",
        "outputId": "73500655-8c1f-4fef-b179-261c999905ea",
        "colab": {
          "base_uri": "https://localhost:8080/",
          "height": 461
        }
      },
      "source": [
        "print('\\n'.join(list(init_df.columns)))\n",
        "print('Columns q-ty: ' + str(len(init_df.columns)))"
      ],
      "execution_count": 42,
      "outputs": [
        {
          "output_type": "stream",
          "text": [
            "invoice_and_item_number\n",
            "date\n",
            "store_number\n",
            "store_name\n",
            "address\n",
            "city\n",
            "zip_code\n",
            "store_location\n",
            "county_number\n",
            "county\n",
            "category\n",
            "category_name\n",
            "vendor_number\n",
            "vendor_name\n",
            "item_number\n",
            "item_description\n",
            "pack\n",
            "bottle_volume_ml\n",
            "state_bottle_cost\n",
            "state_bottle_retail\n",
            "bottles_sold\n",
            "sale_dollars\n",
            "volume_sold_liters\n",
            "volume_sold_gallons\n",
            "Columns q-ty: 24\n"
          ],
          "name": "stdout"
        }
      ]
    },
    {
      "cell_type": "markdown",
      "metadata": {
        "id": "iL6cO00QrdJS",
        "colab_type": "text"
      },
      "source": [
        "Looks like some items dataset contain repeatable data - category or name and syntetic identifier: <ul>\n",
        "<li>store_number and store_name</li>\n",
        "<li>county_number and county</li>\n",
        "<li>category and category_name</li>\n",
        "<li>vendor_number and vendor_name</li>\n",
        "<li>item_number and item_description</li>\n",
        "</ul>\n",
        "Also, next set of columns contains null values so need to be handled during dataset upload:\n",
        "<ul>\n",
        "<li>address</li>\n",
        "<li>city</li>\n",
        "<li>zip_code</li>\n",
        "<li>store_location</li>\n",
        "<li>county_number</li>\n",
        "<li>county</li>\n",
        "<li>category</li>\n",
        "<li>category_name</li>\n",
        "<li>vendor_number</li>\n",
        "</ul>\n",
        "Dataset weight in Google Cloud storage - 4.68 GB, so size should be reduced to efficiently download and process it in RAM. In this case invoice_and_item_number column can be excluded from analysis. Also, columns which contains categorical data can be replaced with its syntetic analog."
      ]
    },
    {
      "cell_type": "code",
      "metadata": {
        "id": "4G_4H0Q9x32l",
        "colab_type": "code",
        "outputId": "397a22b9-4028-4a0c-c0a5-e7b996fdf392",
        "colab": {
          "base_uri": "https://localhost:8080/",
          "height": 34
        }
      },
      "source": [
        "init_df['synth_sales'] = init_df['state_bottle_retail'] * init_df['bottles_sold']\n",
        "print(np.allclose(init_df['synth_sales'], init_df['sale_dollars'], atol=0.01))"
      ],
      "execution_count": 43,
      "outputs": [
        {
          "output_type": "stream",
          "text": [
            "False\n"
          ],
          "name": "stdout"
        }
      ]
    },
    {
      "cell_type": "markdown",
      "metadata": {
        "id": "21e-F6ty5LNW",
        "colab_type": "text"
      },
      "source": [
        "Sale_dollars column should be the product of state_bottle_retail and bottles_sold columns, but somewhere in data is a difference, so np.allclose with tolerance 0.01 returns False. Filtering the part of dataset to review where the absolute value of difference is larger than given tolerance:"
      ]
    },
    {
      "cell_type": "code",
      "metadata": {
        "id": "s1Jwavbf31pB",
        "colab_type": "code",
        "outputId": "0678d066-c216-4bca-9471-0e8c5dad909c",
        "colab": {
          "base_uri": "https://localhost:8080/",
          "height": 417
        }
      },
      "source": [
        "sales_diff_df = init_df[np.abs(init_df['synth_sales'] - init_df['sale_dollars']) > 0.01]\n",
        "sales_diff_df.head()"
      ],
      "execution_count": 44,
      "outputs": [
        {
          "output_type": "execute_result",
          "data": {
            "text/html": [
              "<div>\n",
              "<style scoped>\n",
              "    .dataframe tbody tr th:only-of-type {\n",
              "        vertical-align: middle;\n",
              "    }\n",
              "\n",
              "    .dataframe tbody tr th {\n",
              "        vertical-align: top;\n",
              "    }\n",
              "\n",
              "    .dataframe thead th {\n",
              "        text-align: right;\n",
              "    }\n",
              "</style>\n",
              "<table border=\"1\" class=\"dataframe\">\n",
              "  <thead>\n",
              "    <tr style=\"text-align: right;\">\n",
              "      <th></th>\n",
              "      <th>invoice_and_item_number</th>\n",
              "      <th>date</th>\n",
              "      <th>store_number</th>\n",
              "      <th>store_name</th>\n",
              "      <th>address</th>\n",
              "      <th>city</th>\n",
              "      <th>zip_code</th>\n",
              "      <th>store_location</th>\n",
              "      <th>county_number</th>\n",
              "      <th>county</th>\n",
              "      <th>category</th>\n",
              "      <th>category_name</th>\n",
              "      <th>vendor_number</th>\n",
              "      <th>vendor_name</th>\n",
              "      <th>item_number</th>\n",
              "      <th>item_description</th>\n",
              "      <th>pack</th>\n",
              "      <th>bottle_volume_ml</th>\n",
              "      <th>state_bottle_cost</th>\n",
              "      <th>state_bottle_retail</th>\n",
              "      <th>bottles_sold</th>\n",
              "      <th>sale_dollars</th>\n",
              "      <th>volume_sold_liters</th>\n",
              "      <th>volume_sold_gallons</th>\n",
              "      <th>synth_sales</th>\n",
              "    </tr>\n",
              "  </thead>\n",
              "  <tbody>\n",
              "    <tr>\n",
              "      <th>1</th>\n",
              "      <td>INV-00074400011</td>\n",
              "      <td>2016-08-31</td>\n",
              "      <td>5176</td>\n",
              "      <td>Smokin' Joe's #15 Tobacco &amp; Liquor O</td>\n",
              "      <td>455, Edgewood Rd NW</td>\n",
              "      <td>Cedar Rapids</td>\n",
              "      <td>52405</td>\n",
              "      <td>POINT (-91.715903 41.97805)</td>\n",
              "      <td>57</td>\n",
              "      <td>LINN</td>\n",
              "      <td>1031000</td>\n",
              "      <td>American Vodka</td>\n",
              "      <td>300</td>\n",
              "      <td>McCormick Distilling Co.</td>\n",
              "      <td>36904</td>\n",
              "      <td>Mccormick Vodka Pet</td>\n",
              "      <td>24</td>\n",
              "      <td>375</td>\n",
              "      <td>1.80</td>\n",
              "      <td>2.70</td>\n",
              "      <td>1</td>\n",
              "      <td>64.80</td>\n",
              "      <td>0.37</td>\n",
              "      <td>0.09</td>\n",
              "      <td>2.70</td>\n",
              "    </tr>\n",
              "    <tr>\n",
              "      <th>28</th>\n",
              "      <td>INV-00024800023</td>\n",
              "      <td>2016-08-29</td>\n",
              "      <td>5173</td>\n",
              "      <td>Audubon Food Land</td>\n",
              "      <td>104 Market St</td>\n",
              "      <td>Audubon</td>\n",
              "      <td>50025</td>\n",
              "      <td>POINT (-94.93625 41.723057)</td>\n",
              "      <td>5</td>\n",
              "      <td>AUDUBON</td>\n",
              "      <td>1031000</td>\n",
              "      <td>American Vodka</td>\n",
              "      <td>434</td>\n",
              "      <td>LUXCO INC</td>\n",
              "      <td>36308</td>\n",
              "      <td>Hawkeye Vodka</td>\n",
              "      <td>6</td>\n",
              "      <td>1750</td>\n",
              "      <td>7.17</td>\n",
              "      <td>10.76</td>\n",
              "      <td>4</td>\n",
              "      <td>10.76</td>\n",
              "      <td>7.00</td>\n",
              "      <td>1.84</td>\n",
              "      <td>43.04</td>\n",
              "    </tr>\n",
              "    <tr>\n",
              "      <th>29</th>\n",
              "      <td>INV-00027400010</td>\n",
              "      <td>2016-08-30</td>\n",
              "      <td>4641</td>\n",
              "      <td>Kum &amp; Go #573 / SE 14th DM</td>\n",
              "      <td>5830 SE 14th St</td>\n",
              "      <td>Des Moines</td>\n",
              "      <td>50315</td>\n",
              "      <td>None</td>\n",
              "      <td>77</td>\n",
              "      <td>POLK</td>\n",
              "      <td>1031000</td>\n",
              "      <td>American Vodka</td>\n",
              "      <td>260</td>\n",
              "      <td>DIAGEO AMERICAS</td>\n",
              "      <td>37991</td>\n",
              "      <td>Smirnoff Vodka 80 Prf Mini</td>\n",
              "      <td>12</td>\n",
              "      <td>500</td>\n",
              "      <td>7.47</td>\n",
              "      <td>11.21</td>\n",
              "      <td>4</td>\n",
              "      <td>11.21</td>\n",
              "      <td>2.00</td>\n",
              "      <td>0.52</td>\n",
              "      <td>44.84</td>\n",
              "    </tr>\n",
              "    <tr>\n",
              "      <th>30</th>\n",
              "      <td>INV-00045300045</td>\n",
              "      <td>2016-08-30</td>\n",
              "      <td>3993</td>\n",
              "      <td>New Star Liquor / W 4th S / Waterloo</td>\n",
              "      <td>1625 West 4th St</td>\n",
              "      <td>Waterloo</td>\n",
              "      <td>50701</td>\n",
              "      <td>None</td>\n",
              "      <td>7</td>\n",
              "      <td>BLACK HAWK</td>\n",
              "      <td>1070000</td>\n",
              "      <td>Cocktails / RTD</td>\n",
              "      <td>395</td>\n",
              "      <td>PROXIMO</td>\n",
              "      <td>58879</td>\n",
              "      <td>Jose Cuervo Golden Grapefruit Margarita</td>\n",
              "      <td>6</td>\n",
              "      <td>1750</td>\n",
              "      <td>10.49</td>\n",
              "      <td>15.74</td>\n",
              "      <td>3</td>\n",
              "      <td>15.74</td>\n",
              "      <td>5.25</td>\n",
              "      <td>1.38</td>\n",
              "      <td>47.22</td>\n",
              "    </tr>\n",
              "    <tr>\n",
              "      <th>43</th>\n",
              "      <td>INV-22319400029</td>\n",
              "      <td>2019-10-04</td>\n",
              "      <td>2558</td>\n",
              "      <td>Hy-Vee Food Store / Mount Pleasant</td>\n",
              "      <td>1700 E Washington</td>\n",
              "      <td>Mount Pleasant</td>\n",
              "      <td>52641</td>\n",
              "      <td>POINT (-91.52888 40.962331000000006)</td>\n",
              "      <td>44</td>\n",
              "      <td>HENRY</td>\n",
              "      <td>1091200</td>\n",
              "      <td>Neutral Grain Spirits</td>\n",
              "      <td>434</td>\n",
              "      <td>LUXCO INC</td>\n",
              "      <td>41846</td>\n",
              "      <td>Everclear Alcohol</td>\n",
              "      <td>12</td>\n",
              "      <td>750</td>\n",
              "      <td>8.00</td>\n",
              "      <td>12.00</td>\n",
              "      <td>24</td>\n",
              "      <td>324.00</td>\n",
              "      <td>18.00</td>\n",
              "      <td>4.75</td>\n",
              "      <td>288.00</td>\n",
              "    </tr>\n",
              "  </tbody>\n",
              "</table>\n",
              "</div>"
            ],
            "text/plain": [
              "   invoice_and_item_number        date  ... volume_sold_gallons synth_sales\n",
              "1          INV-00074400011  2016-08-31  ...                0.09        2.70\n",
              "28         INV-00024800023  2016-08-29  ...                1.84       43.04\n",
              "29         INV-00027400010  2016-08-30  ...                0.52       44.84\n",
              "30         INV-00045300045  2016-08-30  ...                1.38       47.22\n",
              "43         INV-22319400029  2019-10-04  ...                4.75      288.00\n",
              "\n",
              "[5 rows x 25 columns]"
            ]
          },
          "metadata": {
            "tags": []
          },
          "execution_count": 44
        }
      ]
    },
    {
      "cell_type": "code",
      "metadata": {
        "id": "VNzvLwHT6J5X",
        "colab_type": "code",
        "outputId": "cd9b2134-33db-4b21-84cf-9b3df5f8d0a2",
        "colab": {
          "base_uri": "https://localhost:8080/",
          "height": 52
        }
      },
      "source": [
        "print(sales_diff_df.shape)\n",
        "print(\"Differences in data {0: .2f}%\".format(sales_diff_df.shape[0] / init_df.shape[0] * 100))"
      ],
      "execution_count": 45,
      "outputs": [
        {
          "output_type": "stream",
          "text": [
            "(425, 25)\n",
            "Differences in data  4.25%\n"
          ],
          "name": "stdout"
        }
      ]
    },
    {
      "cell_type": "markdown",
      "metadata": {
        "id": "Xwc8R3yX6c-F",
        "colab_type": "text"
      },
      "source": [
        "472 out of 10k - so column can't be excluded from query, this difference should be investigated. Additioanl review needed to decide which data are correct."
      ]
    },
    {
      "cell_type": "code",
      "metadata": {
        "id": "3XrJydZ46Tto",
        "colab_type": "code",
        "outputId": "3e2e1421-38c5-496f-d284-5b88a09282a1",
        "colab": {
          "base_uri": "https://localhost:8080/",
          "height": 107
        }
      },
      "source": [
        "init_df[['volume_sold_gallons', 'volume_sold_liters']].corr()"
      ],
      "execution_count": 46,
      "outputs": [
        {
          "output_type": "execute_result",
          "data": {
            "text/html": [
              "<div>\n",
              "<style scoped>\n",
              "    .dataframe tbody tr th:only-of-type {\n",
              "        vertical-align: middle;\n",
              "    }\n",
              "\n",
              "    .dataframe tbody tr th {\n",
              "        vertical-align: top;\n",
              "    }\n",
              "\n",
              "    .dataframe thead th {\n",
              "        text-align: right;\n",
              "    }\n",
              "</style>\n",
              "<table border=\"1\" class=\"dataframe\">\n",
              "  <thead>\n",
              "    <tr style=\"text-align: right;\">\n",
              "      <th></th>\n",
              "      <th>volume_sold_gallons</th>\n",
              "      <th>volume_sold_liters</th>\n",
              "    </tr>\n",
              "  </thead>\n",
              "  <tbody>\n",
              "    <tr>\n",
              "      <th>volume_sold_gallons</th>\n",
              "      <td>1.0</td>\n",
              "      <td>1.0</td>\n",
              "    </tr>\n",
              "    <tr>\n",
              "      <th>volume_sold_liters</th>\n",
              "      <td>1.0</td>\n",
              "      <td>1.0</td>\n",
              "    </tr>\n",
              "  </tbody>\n",
              "</table>\n",
              "</div>"
            ],
            "text/plain": [
              "                     volume_sold_gallons  volume_sold_liters\n",
              "volume_sold_gallons                  1.0                 1.0\n",
              "volume_sold_liters                   1.0                 1.0"
            ]
          },
          "metadata": {
            "tags": []
          },
          "execution_count": 46
        }
      ]
    },
    {
      "cell_type": "code",
      "metadata": {
        "id": "sBqSt-J2-EBQ",
        "colab_type": "code",
        "outputId": "dccdd1b5-e294-4ace-8b33-9e7963f9e2d9",
        "colab": {
          "base_uri": "https://localhost:8080/",
          "height": 34
        }
      },
      "source": [
        "init_df['synth_volume'] = init_df['bottle_volume_ml'] * init_df['bottles_sold'] / 1000\n",
        "print(np.allclose(init_df['synth_volume'], init_df['volume_sold_liters'], atol=0.01))"
      ],
      "execution_count": 47,
      "outputs": [
        {
          "output_type": "stream",
          "text": [
            "True\n"
          ],
          "name": "stdout"
        }
      ]
    },
    {
      "cell_type": "markdown",
      "metadata": {
        "id": "B-XLbYhu_XUA",
        "colab_type": "text"
      },
      "source": [
        "Columns volume_sold_gallons and volume_sold_liters are linear dependent (as expected) and are the combination of bottle_volume_ml and bottles_sold, so can be excluded from query."
      ]
    },
    {
      "cell_type": "markdown",
      "metadata": {
        "id": "if0IMbh89AyJ",
        "colab_type": "text"
      },
      "source": [
        "Exploring the parameters of data in overall dataset to define correct data types:"
      ]
    },
    {
      "cell_type": "code",
      "metadata": {
        "id": "7PSmpmSJ9YZO",
        "colab_type": "code",
        "colab": {}
      },
      "source": [
        "data_descr_query = \"\"\"\n",
        "SELECT \n",
        "    COUNT(*) AS overall_rows,\n",
        "    MAX(store_number) AS max_store_num,\n",
        "    MAX(vendor_number) AS max_vendor_num,\n",
        "    MAX(zip_code) AS max_zip,\n",
        "    MAX(item_number) AS max_item_num,\n",
        "    MAX(pack) AS pack_max,\n",
        "    MAX(bottle_volume_ml) AS volume_max,\n",
        "    MAX(state_bottle_cost) AS max_bottle_cost,\n",
        "    MAX(state_bottle_retail) AS max_retail,\n",
        "    MAX(bottles_sold) AS max_bottles_sold,\n",
        "    MAX(sale_dollars) AS max_sale_dollars\n",
        "FROM bigquery-public-data.iowa_liquor_sales.sales\n",
        "\"\"\""
      ],
      "execution_count": 0,
      "outputs": []
    },
    {
      "cell_type": "code",
      "metadata": {
        "id": "eEZlp4Rx__hK",
        "colab_type": "code",
        "outputId": "619ceaae-bf6f-4106-e2a9-abb4f2da19f0",
        "colab": {
          "base_uri": "https://localhost:8080/",
          "height": 97
        }
      },
      "source": [
        "data_descr_df = bq_client.query(data_descr_query).result().to_dataframe()\n",
        "data_descr_df"
      ],
      "execution_count": 49,
      "outputs": [
        {
          "output_type": "execute_result",
          "data": {
            "text/html": [
              "<div>\n",
              "<style scoped>\n",
              "    .dataframe tbody tr th:only-of-type {\n",
              "        vertical-align: middle;\n",
              "    }\n",
              "\n",
              "    .dataframe tbody tr th {\n",
              "        vertical-align: top;\n",
              "    }\n",
              "\n",
              "    .dataframe thead th {\n",
              "        text-align: right;\n",
              "    }\n",
              "</style>\n",
              "<table border=\"1\" class=\"dataframe\">\n",
              "  <thead>\n",
              "    <tr style=\"text-align: right;\">\n",
              "      <th></th>\n",
              "      <th>overall_rows</th>\n",
              "      <th>max_store_num</th>\n",
              "      <th>max_vendor_num</th>\n",
              "      <th>max_zip</th>\n",
              "      <th>max_item_num</th>\n",
              "      <th>pack_max</th>\n",
              "      <th>volume_max</th>\n",
              "      <th>max_bottle_cost</th>\n",
              "      <th>max_retail</th>\n",
              "      <th>max_bottles_sold</th>\n",
              "      <th>max_sale_dollars</th>\n",
              "    </tr>\n",
              "  </thead>\n",
              "  <tbody>\n",
              "    <tr>\n",
              "      <th>0</th>\n",
              "      <td>18098417</td>\n",
              "      <td>9938</td>\n",
              "      <td>987</td>\n",
              "      <td>80904</td>\n",
              "      <td>x904631</td>\n",
              "      <td>336</td>\n",
              "      <td>378000</td>\n",
              "      <td>7680.0</td>\n",
              "      <td>11520.0</td>\n",
              "      <td>15000</td>\n",
              "      <td>279557.28</td>\n",
              "    </tr>\n",
              "  </tbody>\n",
              "</table>\n",
              "</div>"
            ],
            "text/plain": [
              "   overall_rows max_store_num  ... max_bottles_sold max_sale_dollars\n",
              "0      18098417          9938  ...            15000        279557.28\n",
              "\n",
              "[1 rows x 11 columns]"
            ]
          },
          "metadata": {
            "tags": []
          },
          "execution_count": 49
        }
      ]
    },
    {
      "cell_type": "code",
      "metadata": {
        "id": "NmMIiPLRATnK",
        "colab_type": "code",
        "colab": {}
      },
      "source": [
        "dtypes = {'pack': np.int16, 'bottle_volume_ml': np.int32, 'state_bottle_cost': np.float32, \n",
        "          'state_bottle_retail': np.float32, 'bottles_sold': np.int16, 'zip_code': np.int32,\n",
        "          'store_number': np.int16, 'vendor_number': np.int16, 'county_number': np.int32}"
      ],
      "execution_count": 0,
      "outputs": []
    },
    {
      "cell_type": "markdown",
      "metadata": {
        "id": "6k-KkXSe_w3f",
        "colab_type": "text"
      },
      "source": [
        "Creating the query in a way to replace the categorical null values by the specific identifier and converting columns which have non-numeric data types:"
      ]
    },
    {
      "cell_type": "code",
      "metadata": {
        "id": "olqLNnEi7j0y",
        "colab_type": "code",
        "colab": {}
      },
      "source": [
        "all_items_query = \"\"\"\n",
        "SELECT\n",
        "    date,\n",
        "    COALESCE(SAFE_CAST(store_number AS NUMERIC), -999) AS store_number,\n",
        "    COALESCE(address, \"NO ADDRESS\") AS address,\n",
        "    COALESCE(city,\"NO CITY\") AS city,\n",
        "    COALESCE(SAFE_CAST(zip_code AS NUMERIC), -999) AS zip_code,\n",
        "    COALESCE(store_location, \"LOCATION UMKNOWN\") AS store_location,\n",
        "    COALESCE(SAFE_CAST(county_number AS NUMERIC), -999) AS county_number,\n",
        "    COALESCE(category, \"NO CATEGORY\") AS category,\n",
        "    COALESCE(SAFE_CAST(vendor_number AS NUMERIC), -999) AS vendor_number,\n",
        "    COALESCE(SAFE_CAST(item_number AS NUMERIC), -999) AS item_number, \n",
        "    pack,\n",
        "    bottle_volume_ml,\n",
        "    state_bottle_cost,\n",
        "    state_bottle_retail,\n",
        "    bottles_sold,\n",
        "    sale_dollars\n",
        "FROM bigquery-public-data.iowa_liquor_sales.sales\n",
        "\"\"\""
      ],
      "execution_count": 0,
      "outputs": []
    },
    {
      "cell_type": "code",
      "metadata": {
        "id": "_07W59uX8mUe",
        "colab_type": "code",
        "colab": {}
      },
      "source": [
        "# if personal drive doesn't mounted to the collab - try to change address variable to your default\n",
        "# working directory\n",
        "address = r'/content/drive/My Drive/Colab Notebooks/full_dataset.csv'\n",
        "try:\n",
        "  all_items_df = pd.read_csv(address, dtype=dtypes)\n",
        "except FileNotFoundError:\n",
        "  all_items_df = bq_client.query(all_items_query).result().to_dataframe(dtypes=dtypes)\n",
        "  try:\n",
        "    all_items_df.to_csv(address)\n",
        "  except:\n",
        "    pass"
      ],
      "execution_count": 0,
      "outputs": []
    },
    {
      "cell_type": "markdown",
      "metadata": {
        "colab_type": "text",
        "id": "61hmI2FTFymi"
      },
      "source": [
        "The dataset is the history of the sales, so to ease working with it date column should be converted to index:"
      ]
    },
    {
      "cell_type": "code",
      "metadata": {
        "id": "rJh8DOL9koLE",
        "colab_type": "code",
        "colab": {}
      },
      "source": [
        "#changing the default index to datetime index\n",
        "all_items_df['date'] = pd.to_datetime(all_items_df['date'])\n",
        "all_items_df.set_index('date', inplace=True)"
      ],
      "execution_count": 0,
      "outputs": []
    },
    {
      "cell_type": "code",
      "metadata": {
        "id": "FqZbA2wqde0k",
        "colab_type": "code",
        "colab": {}
      },
      "source": [
        "all_items_df.drop('Unnamed: 0', axis=1, inplace=True)"
      ],
      "execution_count": 0,
      "outputs": []
    },
    {
      "cell_type": "code",
      "metadata": {
        "id": "qTGeODS8IWXG",
        "colab_type": "code",
        "outputId": "6d45f655-5dc5-4db2-b476-9e64192f856e",
        "colab": {
          "base_uri": "https://localhost:8080/",
          "height": 307
        }
      },
      "source": [
        "all_items_df.describe().apply(lambda s: s.apply(lambda x: format(x, '.2f')))"
      ],
      "execution_count": 71,
      "outputs": [
        {
          "output_type": "execute_result",
          "data": {
            "text/html": [
              "<div>\n",
              "<style scoped>\n",
              "    .dataframe tbody tr th:only-of-type {\n",
              "        vertical-align: middle;\n",
              "    }\n",
              "\n",
              "    .dataframe tbody tr th {\n",
              "        vertical-align: top;\n",
              "    }\n",
              "\n",
              "    .dataframe thead th {\n",
              "        text-align: right;\n",
              "    }\n",
              "</style>\n",
              "<table border=\"1\" class=\"dataframe\">\n",
              "  <thead>\n",
              "    <tr style=\"text-align: right;\">\n",
              "      <th></th>\n",
              "      <th>store_number</th>\n",
              "      <th>zip_code</th>\n",
              "      <th>county_number</th>\n",
              "      <th>vendor_number</th>\n",
              "      <th>item_number</th>\n",
              "      <th>pack</th>\n",
              "      <th>bottle_volume_ml</th>\n",
              "      <th>state_bottle_cost</th>\n",
              "      <th>state_bottle_retail</th>\n",
              "      <th>bottles_sold</th>\n",
              "      <th>sale_dollars</th>\n",
              "      <th>synth_sales</th>\n",
              "    </tr>\n",
              "  </thead>\n",
              "  <tbody>\n",
              "    <tr>\n",
              "      <th>count</th>\n",
              "      <td>17926603.00</td>\n",
              "      <td>17926603.00</td>\n",
              "      <td>17926603.00</td>\n",
              "      <td>17926603.00</td>\n",
              "      <td>17926603.00</td>\n",
              "      <td>17926603.00</td>\n",
              "      <td>17926603.00</td>\n",
              "      <td>17926593.00</td>\n",
              "      <td>17926593.00</td>\n",
              "      <td>17926603.00</td>\n",
              "      <td>17926593.00</td>\n",
              "      <td>17926593.00</td>\n",
              "    </tr>\n",
              "    <tr>\n",
              "      <th>mean</th>\n",
              "      <td>3655.67</td>\n",
              "      <td>51010.31</td>\n",
              "      <td>48.04</td>\n",
              "      <td>259.03</td>\n",
              "      <td>46622.02</td>\n",
              "      <td>12.29</td>\n",
              "      <td>917.88</td>\n",
              "      <td>9.62</td>\n",
              "      <td>14.93</td>\n",
              "      <td>10.21</td>\n",
              "      <td>133.35</td>\n",
              "      <td>128.56</td>\n",
              "    </tr>\n",
              "    <tr>\n",
              "      <th>std</th>\n",
              "      <td>1001.58</td>\n",
              "      <td>3779.49</td>\n",
              "      <td>101.98</td>\n",
              "      <td>139.92</td>\n",
              "      <td>56890.78</td>\n",
              "      <td>7.62</td>\n",
              "      <td>675.68</td>\n",
              "      <td>10.45</td>\n",
              "      <td>15.74</td>\n",
              "      <td>27.17</td>\n",
              "      <td>456.02</td>\n",
              "      <td>449.01</td>\n",
              "    </tr>\n",
              "    <tr>\n",
              "      <th>min</th>\n",
              "      <td>2106.00</td>\n",
              "      <td>-999.00</td>\n",
              "      <td>-999.00</td>\n",
              "      <td>-999.00</td>\n",
              "      <td>-999.00</td>\n",
              "      <td>1.00</td>\n",
              "      <td>0.00</td>\n",
              "      <td>0.00</td>\n",
              "      <td>0.00</td>\n",
              "      <td>0.00</td>\n",
              "      <td>0.00</td>\n",
              "      <td>0.00</td>\n",
              "    </tr>\n",
              "    <tr>\n",
              "      <th>25%</th>\n",
              "      <td>2612.00</td>\n",
              "      <td>50315.00</td>\n",
              "      <td>31.00</td>\n",
              "      <td>115.00</td>\n",
              "      <td>27025.00</td>\n",
              "      <td>6.00</td>\n",
              "      <td>750.00</td>\n",
              "      <td>5.50</td>\n",
              "      <td>8.25</td>\n",
              "      <td>2.00</td>\n",
              "      <td>31.41</td>\n",
              "      <td>31.36</td>\n",
              "    </tr>\n",
              "    <tr>\n",
              "      <th>50%</th>\n",
              "      <td>3756.00</td>\n",
              "      <td>51054.00</td>\n",
              "      <td>61.00</td>\n",
              "      <td>260.00</td>\n",
              "      <td>38177.00</td>\n",
              "      <td>12.00</td>\n",
              "      <td>750.00</td>\n",
              "      <td>8.07</td>\n",
              "      <td>12.29</td>\n",
              "      <td>6.00</td>\n",
              "      <td>70.56</td>\n",
              "      <td>70.56</td>\n",
              "    </tr>\n",
              "    <tr>\n",
              "      <th>75%</th>\n",
              "      <td>4452.00</td>\n",
              "      <td>52302.00</td>\n",
              "      <td>77.00</td>\n",
              "      <td>380.00</td>\n",
              "      <td>64676.00</td>\n",
              "      <td>12.00</td>\n",
              "      <td>1000.00</td>\n",
              "      <td>11.99</td>\n",
              "      <td>17.99</td>\n",
              "      <td>12.00</td>\n",
              "      <td>137.16</td>\n",
              "      <td>137.16</td>\n",
              "    </tr>\n",
              "    <tr>\n",
              "      <th>max</th>\n",
              "      <td>9938.00</td>\n",
              "      <td>80904.00</td>\n",
              "      <td>99.00</td>\n",
              "      <td>987.00</td>\n",
              "      <td>999449.00</td>\n",
              "      <td>336.00</td>\n",
              "      <td>378000.00</td>\n",
              "      <td>7680.00</td>\n",
              "      <td>11520.00</td>\n",
              "      <td>15000.00</td>\n",
              "      <td>279557.28</td>\n",
              "      <td>279557.28</td>\n",
              "    </tr>\n",
              "  </tbody>\n",
              "</table>\n",
              "</div>"
            ],
            "text/plain": [
              "      store_number     zip_code  ... sale_dollars  synth_sales\n",
              "count  17926603.00  17926603.00  ...  17926593.00  17926593.00\n",
              "mean       3655.67     51010.31  ...       133.35       128.56\n",
              "std        1001.58      3779.49  ...       456.02       449.01\n",
              "min        2106.00      -999.00  ...         0.00         0.00\n",
              "25%        2612.00     50315.00  ...        31.41        31.36\n",
              "50%        3756.00     51054.00  ...        70.56        70.56\n",
              "75%        4452.00     52302.00  ...       137.16       137.16\n",
              "max        9938.00     80904.00  ...    279557.28    279557.28\n",
              "\n",
              "[8 rows x 12 columns]"
            ]
          },
          "metadata": {
            "tags": []
          },
          "execution_count": 71
        }
      ]
    },
    {
      "cell_type": "code",
      "metadata": {
        "id": "cOq5kwWzI5Vq",
        "colab_type": "code",
        "outputId": "ea19a328-4c29-44c0-f4a0-1db23b6671d9",
        "colab": {
          "base_uri": "https://localhost:8080/",
          "height": 318
        }
      },
      "source": [
        "all_items_df.nunique(axis=0)"
      ],
      "execution_count": 55,
      "outputs": [
        {
          "output_type": "execute_result",
          "data": {
            "text/plain": [
              "Unnamed: 0             17926603\n",
              "store_number               2320\n",
              "address                    3577\n",
              "city                        831\n",
              "zip_code                    486\n",
              "store_location             1868\n",
              "county_number               100\n",
              "category                    200\n",
              "vendor_number               332\n",
              "item_number                9034\n",
              "pack                         27\n",
              "bottle_volume_ml             55\n",
              "state_bottle_cost          2972\n",
              "state_bottle_retail        3434\n",
              "bottles_sold                560\n",
              "sale_dollars              27587\n",
              "dtype: int64"
            ]
          },
          "metadata": {
            "tags": []
          },
          "execution_count": 55
        }
      ]
    },
    {
      "cell_type": "markdown",
      "metadata": {
        "id": "hnJaYSgYH1fv",
        "colab_type": "text"
      },
      "source": [
        "Looking at the full dataset we can see some interesting points on the description and data types of columns:\n",
        "1. store_number, city, zip_code, county_number, category, vendor_number and item number, bottle_volume_ml consists of categorical data.\n",
        "2. address and and store_location contains geographical data, suspect they are redundant for this stage, but can be useful for further analysis.\n",
        "3. bottle_volume_ml, state_bottle_cost, state_bottle_retail, bottles_sold,  sale_dollars contains quantitative data.\n",
        "\n",
        "In this case bottles_sold or sale_dollars (which are linear dependent) can be the dependent variable, all others - predictors.\n",
        "\n",
        "Let take a quick look on quantitative columns details:"
      ]
    },
    {
      "cell_type": "code",
      "metadata": {
        "id": "rEA1VD5cMvEa",
        "colab_type": "code",
        "colab": {}
      },
      "source": [
        "# adding synth_sales columns to the dataset\n",
        "all_items_df['synth_sales'] = all_items_df['state_bottle_retail'] * all_items_df['bottles_sold']"
      ],
      "execution_count": 0,
      "outputs": []
    },
    {
      "cell_type": "code",
      "metadata": {
        "id": "6W9sPkDHMNB9",
        "colab_type": "code",
        "outputId": "29711e4a-1803-4084-95f7-dc5be9b9c7e7",
        "colab": {
          "base_uri": "https://localhost:8080/",
          "height": 287
        }
      },
      "source": [
        "quant_columns = ['pack', \n",
        "                 'bottle_volume_ml', \n",
        "                 'state_bottle_cost',\n",
        "                 'state_bottle_retail',\n",
        "                 'bottles_sold',\n",
        "                 'sale_dollars',\n",
        "                 'synth_sales']\n",
        "quant_descr_df = all_items_df[quant_columns].describe().apply(lambda s: s.apply(lambda x: format(x, '.2f')))\n",
        "quant_descr_df"
      ],
      "execution_count": 57,
      "outputs": [
        {
          "output_type": "execute_result",
          "data": {
            "text/html": [
              "<div>\n",
              "<style scoped>\n",
              "    .dataframe tbody tr th:only-of-type {\n",
              "        vertical-align: middle;\n",
              "    }\n",
              "\n",
              "    .dataframe tbody tr th {\n",
              "        vertical-align: top;\n",
              "    }\n",
              "\n",
              "    .dataframe thead th {\n",
              "        text-align: right;\n",
              "    }\n",
              "</style>\n",
              "<table border=\"1\" class=\"dataframe\">\n",
              "  <thead>\n",
              "    <tr style=\"text-align: right;\">\n",
              "      <th></th>\n",
              "      <th>pack</th>\n",
              "      <th>bottle_volume_ml</th>\n",
              "      <th>state_bottle_cost</th>\n",
              "      <th>state_bottle_retail</th>\n",
              "      <th>bottles_sold</th>\n",
              "      <th>sale_dollars</th>\n",
              "      <th>synth_sales</th>\n",
              "    </tr>\n",
              "  </thead>\n",
              "  <tbody>\n",
              "    <tr>\n",
              "      <th>count</th>\n",
              "      <td>17926603.00</td>\n",
              "      <td>17926603.00</td>\n",
              "      <td>17926593.00</td>\n",
              "      <td>17926593.00</td>\n",
              "      <td>17926603.00</td>\n",
              "      <td>17926593.00</td>\n",
              "      <td>17926593.00</td>\n",
              "    </tr>\n",
              "    <tr>\n",
              "      <th>mean</th>\n",
              "      <td>12.29</td>\n",
              "      <td>917.88</td>\n",
              "      <td>9.62</td>\n",
              "      <td>14.93</td>\n",
              "      <td>10.21</td>\n",
              "      <td>133.35</td>\n",
              "      <td>128.56</td>\n",
              "    </tr>\n",
              "    <tr>\n",
              "      <th>std</th>\n",
              "      <td>7.62</td>\n",
              "      <td>675.68</td>\n",
              "      <td>10.45</td>\n",
              "      <td>15.74</td>\n",
              "      <td>27.17</td>\n",
              "      <td>456.02</td>\n",
              "      <td>449.01</td>\n",
              "    </tr>\n",
              "    <tr>\n",
              "      <th>min</th>\n",
              "      <td>1.00</td>\n",
              "      <td>0.00</td>\n",
              "      <td>0.00</td>\n",
              "      <td>0.00</td>\n",
              "      <td>0.00</td>\n",
              "      <td>0.00</td>\n",
              "      <td>0.00</td>\n",
              "    </tr>\n",
              "    <tr>\n",
              "      <th>25%</th>\n",
              "      <td>6.00</td>\n",
              "      <td>750.00</td>\n",
              "      <td>5.50</td>\n",
              "      <td>8.25</td>\n",
              "      <td>2.00</td>\n",
              "      <td>31.41</td>\n",
              "      <td>31.36</td>\n",
              "    </tr>\n",
              "    <tr>\n",
              "      <th>50%</th>\n",
              "      <td>12.00</td>\n",
              "      <td>750.00</td>\n",
              "      <td>8.07</td>\n",
              "      <td>12.29</td>\n",
              "      <td>6.00</td>\n",
              "      <td>70.56</td>\n",
              "      <td>70.56</td>\n",
              "    </tr>\n",
              "    <tr>\n",
              "      <th>75%</th>\n",
              "      <td>12.00</td>\n",
              "      <td>1000.00</td>\n",
              "      <td>11.99</td>\n",
              "      <td>17.99</td>\n",
              "      <td>12.00</td>\n",
              "      <td>137.16</td>\n",
              "      <td>137.16</td>\n",
              "    </tr>\n",
              "    <tr>\n",
              "      <th>max</th>\n",
              "      <td>336.00</td>\n",
              "      <td>378000.00</td>\n",
              "      <td>7680.00</td>\n",
              "      <td>11520.00</td>\n",
              "      <td>15000.00</td>\n",
              "      <td>279557.28</td>\n",
              "      <td>279557.28</td>\n",
              "    </tr>\n",
              "  </tbody>\n",
              "</table>\n",
              "</div>"
            ],
            "text/plain": [
              "              pack bottle_volume_ml  ... sale_dollars  synth_sales\n",
              "count  17926603.00      17926603.00  ...  17926593.00  17926593.00\n",
              "mean         12.29           917.88  ...       133.35       128.56\n",
              "std           7.62           675.68  ...       456.02       449.01\n",
              "min           1.00             0.00  ...         0.00         0.00\n",
              "25%           6.00           750.00  ...        31.41        31.36\n",
              "50%          12.00           750.00  ...        70.56        70.56\n",
              "75%          12.00          1000.00  ...       137.16       137.16\n",
              "max         336.00        378000.00  ...    279557.28    279557.28\n",
              "\n",
              "[8 rows x 7 columns]"
            ]
          },
          "metadata": {
            "tags": []
          },
          "execution_count": 57
        }
      ]
    },
    {
      "cell_type": "markdown",
      "metadata": {
        "id": "6S-B5v4vNcHZ",
        "colab_type": "text"
      },
      "source": [
        "1. All columns except of pack contain zero values - thats pretty strange, suspect the errors in data here.\n",
        "2. All columns except of pack contains huge outliers - the max value more than two orders of magnitude larger than 75% percentile.\n",
        "3. For the most values in the dataset mean is much grater than median.\n",
        "\n",
        "Lets visualize it to get more convenient graphical representation: "
      ]
    },
    {
      "cell_type": "code",
      "metadata": {
        "id": "bDwg7IfiPweW",
        "colab_type": "code",
        "outputId": "169e6193-61b4-4b6f-87cd-d0bae970276a",
        "colab": {
          "base_uri": "https://localhost:8080/",
          "height": 354
        }
      },
      "source": [
        "fig = plt.figure(figsize=(20, 5))\n",
        "sns.boxplot(x='variable', y='value', data=pd.melt(all_items_df[quant_columns]))\n",
        "fig.show()"
      ],
      "execution_count": 58,
      "outputs": [
        {
          "output_type": "display_data",
          "data": {
            "image/png": "[encoded data removed]",
            "text/plain": [
              "<Figure size 1440x360 with 1 Axes>"
            ]
          },
          "metadata": {
            "tags": []
          }
        }
      ]
    },
    {
      "cell_type": "markdown",
      "metadata": {
        "id": "g6OeMYpZORPM",
        "colab_type": "text"
      },
      "source": [
        "Most of the outlier values is much greater than 1.5IQR, so we need to remove them and estimate the impact on the dataset."
      ]
    },
    {
      "cell_type": "code",
      "metadata": {
        "id": "cottdPlaR84S",
        "colab_type": "code",
        "outputId": "095bf1ea-18f5-4628-d823-25a4019534cd",
        "colab": {
          "base_uri": "https://localhost:8080/",
          "height": 34
        }
      },
      "source": [
        "df = all_items_df.copy()\n",
        "# filtering sales column and drop empty values\n",
        "synth_sales_q1 = all_items_df['synth_sales'].quantile(0.25)\n",
        "synth_sales_q3 = all_items_df['synth_sales'].quantile(0.75)\n",
        "synth_sales_iqr = synth_sales_q3 - synth_sales_q1\n",
        "\n",
        "bottle_vol_q1 = all_items_df['bottle_volume_ml'].quantile(0.25)\n",
        "bottle_vol_q3 = all_items_df['bottle_volume_ml'].quantile(0.75)\n",
        "bottle_vol_iqr = bottle_vol_q3 - bottle_vol_q1\n",
        "\n",
        "df.query('@synth_sales_q1 - 1.5 * @synth_sales_iqr <= synth_sales <= @synth_sales_q3 + 1.5 * @synth_sales_iqr', inplace=True)\n",
        "df.query('@bottle_vol_q1 - 1.5 * @bottle_vol_iqr <= bottle_volume_ml <= @bottle_vol_q3 + 1.5 * @bottle_vol_iqr''', inplace=True)\n",
        "\n",
        "# removing unnecessary columns\n",
        "df.drop(['sale_dollars'], axis=1, inplace=True)\n",
        "\n",
        "df.shape"
      ],
      "execution_count": 59,
      "outputs": [
        {
          "output_type": "execute_result",
          "data": {
            "text/plain": [
              "(12401067, 15)"
            ]
          },
          "metadata": {
            "tags": []
          },
          "execution_count": 59
        }
      ]
    },
    {
      "cell_type": "code",
      "metadata": {
        "id": "R1JATqgdVB1E",
        "colab_type": "code",
        "colab": {}
      },
      "source": [
        "quant_columns = ['pack', \n",
        "                 'bottle_volume_ml', \n",
        "                 'state_bottle_cost',\n",
        "                 'state_bottle_retail',\n",
        "                 'bottles_sold',\n",
        "                 'synth_sales']"
      ],
      "execution_count": 0,
      "outputs": []
    },
    {
      "cell_type": "code",
      "metadata": {
        "id": "JehkotLSVllT",
        "colab_type": "code",
        "colab": {
          "base_uri": "https://localhost:8080/",
          "height": 347
        },
        "outputId": "c62964a7-43ee-45dc-c79a-63211f8f8000"
      },
      "source": [
        "df.head()"
      ],
      "execution_count": 61,
      "outputs": [
        {
          "output_type": "execute_result",
          "data": {
            "text/html": [
              "<div>\n",
              "<style scoped>\n",
              "    .dataframe tbody tr th:only-of-type {\n",
              "        vertical-align: middle;\n",
              "    }\n",
              "\n",
              "    .dataframe tbody tr th {\n",
              "        vertical-align: top;\n",
              "    }\n",
              "\n",
              "    .dataframe thead th {\n",
              "        text-align: right;\n",
              "    }\n",
              "</style>\n",
              "<table border=\"1\" class=\"dataframe\">\n",
              "  <thead>\n",
              "    <tr style=\"text-align: right;\">\n",
              "      <th></th>\n",
              "      <th>store_number</th>\n",
              "      <th>address</th>\n",
              "      <th>city</th>\n",
              "      <th>zip_code</th>\n",
              "      <th>store_location</th>\n",
              "      <th>county_number</th>\n",
              "      <th>category</th>\n",
              "      <th>vendor_number</th>\n",
              "      <th>item_number</th>\n",
              "      <th>pack</th>\n",
              "      <th>bottle_volume_ml</th>\n",
              "      <th>state_bottle_cost</th>\n",
              "      <th>state_bottle_retail</th>\n",
              "      <th>bottles_sold</th>\n",
              "      <th>synth_sales</th>\n",
              "    </tr>\n",
              "    <tr>\n",
              "      <th>date</th>\n",
              "      <th></th>\n",
              "      <th></th>\n",
              "      <th></th>\n",
              "      <th></th>\n",
              "      <th></th>\n",
              "      <th></th>\n",
              "      <th></th>\n",
              "      <th></th>\n",
              "      <th></th>\n",
              "      <th></th>\n",
              "      <th></th>\n",
              "      <th></th>\n",
              "      <th></th>\n",
              "      <th></th>\n",
              "      <th></th>\n",
              "    </tr>\n",
              "  </thead>\n",
              "  <tbody>\n",
              "    <tr>\n",
              "      <th>2016-03-31</th>\n",
              "      <td>2248</td>\n",
              "      <td>3500 INGERSOLL AVE</td>\n",
              "      <td>DES MOINES</td>\n",
              "      <td>50312</td>\n",
              "      <td>POINT (-93.664182 41.586319)</td>\n",
              "      <td>77</td>\n",
              "      <td>1012200</td>\n",
              "      <td>35</td>\n",
              "      <td>902365</td>\n",
              "      <td>10</td>\n",
              "      <td>603</td>\n",
              "      <td>11.95</td>\n",
              "      <td>17.930000</td>\n",
              "      <td>10</td>\n",
              "      <td>179.300003</td>\n",
              "    </tr>\n",
              "    <tr>\n",
              "      <th>2014-10-01</th>\n",
              "      <td>3869</td>\n",
              "      <td>412  1ST AVE</td>\n",
              "      <td>CORALVILLE</td>\n",
              "      <td>52241</td>\n",
              "      <td>POINT (-91.565517 41.672672)</td>\n",
              "      <td>52</td>\n",
              "      <td>1701100</td>\n",
              "      <td>492</td>\n",
              "      <td>4047</td>\n",
              "      <td>6</td>\n",
              "      <td>400</td>\n",
              "      <td>6.01</td>\n",
              "      <td>9.020000</td>\n",
              "      <td>6</td>\n",
              "      <td>54.120003</td>\n",
              "    </tr>\n",
              "    <tr>\n",
              "      <th>2016-08-29</th>\n",
              "      <td>2573</td>\n",
              "      <td>2400 2nd Ave</td>\n",
              "      <td>Muscatine</td>\n",
              "      <td>52761</td>\n",
              "      <td>POINT (-91.035138 41.451349)</td>\n",
              "      <td>70</td>\n",
              "      <td>1070000</td>\n",
              "      <td>434</td>\n",
              "      <td>63522</td>\n",
              "      <td>6</td>\n",
              "      <td>800</td>\n",
              "      <td>3.55</td>\n",
              "      <td>5.330000</td>\n",
              "      <td>2</td>\n",
              "      <td>10.660000</td>\n",
              "    </tr>\n",
              "    <tr>\n",
              "      <th>2019-12-17</th>\n",
              "      <td>5444</td>\n",
              "      <td>11 N 3rd Ave</td>\n",
              "      <td>Marshalltown</td>\n",
              "      <td>50158</td>\n",
              "      <td>POINT (-92.908013 42.050021)</td>\n",
              "      <td>64</td>\n",
              "      <td>1701100</td>\n",
              "      <td>260</td>\n",
              "      <td>100795</td>\n",
              "      <td>6</td>\n",
              "      <td>850</td>\n",
              "      <td>21.49</td>\n",
              "      <td>32.240002</td>\n",
              "      <td>3</td>\n",
              "      <td>96.720001</td>\n",
              "    </tr>\n",
              "    <tr>\n",
              "      <th>2014-11-17</th>\n",
              "      <td>3549</td>\n",
              "      <td>1414 48TH ST</td>\n",
              "      <td>FORT MADISON</td>\n",
              "      <td>52627</td>\n",
              "      <td>POINT (-91.373211 40.62422600000001)</td>\n",
              "      <td>56</td>\n",
              "      <td>1701100</td>\n",
              "      <td>492</td>\n",
              "      <td>3981</td>\n",
              "      <td>6</td>\n",
              "      <td>850</td>\n",
              "      <td>17.00</td>\n",
              "      <td>25.500000</td>\n",
              "      <td>6</td>\n",
              "      <td>153.000000</td>\n",
              "    </tr>\n",
              "  </tbody>\n",
              "</table>\n",
              "</div>"
            ],
            "text/plain": [
              "            store_number             address  ... bottles_sold  synth_sales\n",
              "date                                          ...                          \n",
              "2016-03-31          2248  3500 INGERSOLL AVE  ...           10   179.300003\n",
              "2014-10-01          3869        412  1ST AVE  ...            6    54.120003\n",
              "2016-08-29          2573        2400 2nd Ave  ...            2    10.660000\n",
              "2019-12-17          5444        11 N 3rd Ave  ...            3    96.720001\n",
              "2014-11-17          3549        1414 48TH ST  ...            6   153.000000\n",
              "\n",
              "[5 rows x 15 columns]"
            ]
          },
          "metadata": {
            "tags": []
          },
          "execution_count": 61
        }
      ]
    },
    {
      "cell_type": "code",
      "metadata": {
        "id": "VIfNRgvHb1HS",
        "colab_type": "code",
        "outputId": "c685999b-01eb-409a-975b-0c2e9f35e0d6",
        "colab": {
          "base_uri": "https://localhost:8080/",
          "height": 307
        }
      },
      "source": [
        "df.describe().apply(lambda s: s.apply(lambda x: format(x, '.2f')))"
      ],
      "execution_count": 62,
      "outputs": [
        {
          "output_type": "execute_result",
          "data": {
            "text/html": [
              "<div>\n",
              "<style scoped>\n",
              "    .dataframe tbody tr th:only-of-type {\n",
              "        vertical-align: middle;\n",
              "    }\n",
              "\n",
              "    .dataframe tbody tr th {\n",
              "        vertical-align: top;\n",
              "    }\n",
              "\n",
              "    .dataframe thead th {\n",
              "        text-align: right;\n",
              "    }\n",
              "</style>\n",
              "<table border=\"1\" class=\"dataframe\">\n",
              "  <thead>\n",
              "    <tr style=\"text-align: right;\">\n",
              "      <th></th>\n",
              "      <th>store_number</th>\n",
              "      <th>zip_code</th>\n",
              "      <th>county_number</th>\n",
              "      <th>vendor_number</th>\n",
              "      <th>item_number</th>\n",
              "      <th>pack</th>\n",
              "      <th>bottle_volume_ml</th>\n",
              "      <th>state_bottle_cost</th>\n",
              "      <th>state_bottle_retail</th>\n",
              "      <th>bottles_sold</th>\n",
              "      <th>synth_sales</th>\n",
              "    </tr>\n",
              "  </thead>\n",
              "  <tbody>\n",
              "    <tr>\n",
              "      <th>count</th>\n",
              "      <td>12401067.00</td>\n",
              "      <td>12401067.00</td>\n",
              "      <td>12401067.00</td>\n",
              "      <td>12401067.00</td>\n",
              "      <td>12401067.00</td>\n",
              "      <td>12401067.00</td>\n",
              "      <td>12401067.00</td>\n",
              "      <td>12401067.00</td>\n",
              "      <td>12401067.00</td>\n",
              "      <td>12401067.00</td>\n",
              "      <td>12401067.00</td>\n",
              "    </tr>\n",
              "    <tr>\n",
              "      <th>mean</th>\n",
              "      <td>3650.62</td>\n",
              "      <td>51001.26</td>\n",
              "      <td>47.91</td>\n",
              "      <td>259.57</td>\n",
              "      <td>48683.51</td>\n",
              "      <td>12.74</td>\n",
              "      <td>720.30</td>\n",
              "      <td>9.17</td>\n",
              "      <td>13.69</td>\n",
              "      <td>7.31</td>\n",
              "      <td>80.60</td>\n",
              "    </tr>\n",
              "    <tr>\n",
              "      <th>std</th>\n",
              "      <td>1007.74</td>\n",
              "      <td>3845.35</td>\n",
              "      <td>102.82</td>\n",
              "      <td>139.47</td>\n",
              "      <td>57037.17</td>\n",
              "      <td>4.38</td>\n",
              "      <td>183.87</td>\n",
              "      <td>6.41</td>\n",
              "      <td>9.61</td>\n",
              "      <td>6.72</td>\n",
              "      <td>68.51</td>\n",
              "    </tr>\n",
              "    <tr>\n",
              "      <th>min</th>\n",
              "      <td>2106.00</td>\n",
              "      <td>-999.00</td>\n",
              "      <td>-999.00</td>\n",
              "      <td>-999.00</td>\n",
              "      <td>-999.00</td>\n",
              "      <td>1.00</td>\n",
              "      <td>375.00</td>\n",
              "      <td>0.00</td>\n",
              "      <td>0.00</td>\n",
              "      <td>0.00</td>\n",
              "      <td>0.00</td>\n",
              "    </tr>\n",
              "    <tr>\n",
              "      <th>25%</th>\n",
              "      <td>2605.00</td>\n",
              "      <td>50315.00</td>\n",
              "      <td>31.00</td>\n",
              "      <td>115.00</td>\n",
              "      <td>28086.00</td>\n",
              "      <td>12.00</td>\n",
              "      <td>750.00</td>\n",
              "      <td>5.01</td>\n",
              "      <td>7.64</td>\n",
              "      <td>2.00</td>\n",
              "      <td>26.40</td>\n",
              "    </tr>\n",
              "    <tr>\n",
              "      <th>50%</th>\n",
              "      <td>3762.00</td>\n",
              "      <td>51055.00</td>\n",
              "      <td>61.00</td>\n",
              "      <td>260.00</td>\n",
              "      <td>41693.00</td>\n",
              "      <td>12.00</td>\n",
              "      <td>750.00</td>\n",
              "      <td>7.53</td>\n",
              "      <td>11.30</td>\n",
              "      <td>5.00</td>\n",
              "      <td>60.12</td>\n",
              "    </tr>\n",
              "    <tr>\n",
              "      <th>75%</th>\n",
              "      <td>4461.00</td>\n",
              "      <td>52303.00</td>\n",
              "      <td>77.00</td>\n",
              "      <td>380.00</td>\n",
              "      <td>65426.00</td>\n",
              "      <td>12.00</td>\n",
              "      <td>750.00</td>\n",
              "      <td>11.34</td>\n",
              "      <td>17.01</td>\n",
              "      <td>12.00</td>\n",
              "      <td>121.56</td>\n",
              "    </tr>\n",
              "    <tr>\n",
              "      <th>max</th>\n",
              "      <td>9937.00</td>\n",
              "      <td>80904.00</td>\n",
              "      <td>99.00</td>\n",
              "      <td>987.00</td>\n",
              "      <td>999449.00</td>\n",
              "      <td>60.00</td>\n",
              "      <td>1200.00</td>\n",
              "      <td>195.00</td>\n",
              "      <td>292.50</td>\n",
              "      <td>180.00</td>\n",
              "      <td>295.71</td>\n",
              "    </tr>\n",
              "  </tbody>\n",
              "</table>\n",
              "</div>"
            ],
            "text/plain": [
              "      store_number     zip_code  ... bottles_sold  synth_sales\n",
              "count  12401067.00  12401067.00  ...  12401067.00  12401067.00\n",
              "mean       3650.62     51001.26  ...         7.31        80.60\n",
              "std        1007.74      3845.35  ...         6.72        68.51\n",
              "min        2106.00      -999.00  ...         0.00         0.00\n",
              "25%        2605.00     50315.00  ...         2.00        26.40\n",
              "50%        3762.00     51055.00  ...         5.00        60.12\n",
              "75%        4461.00     52303.00  ...        12.00       121.56\n",
              "max        9937.00     80904.00  ...       180.00       295.71\n",
              "\n",
              "[8 rows x 11 columns]"
            ]
          },
          "metadata": {
            "tags": []
          },
          "execution_count": 62
        }
      ]
    },
    {
      "cell_type": "code",
      "metadata": {
        "id": "_OI_Fyd4dJtt",
        "colab_type": "code",
        "outputId": "1116dd6e-ea2d-4d4b-fb27-94a241095412",
        "colab": {
          "base_uri": "https://localhost:8080/",
          "height": 625
        }
      },
      "source": [
        "fig = plt.figure(figsize=(20, 10)) \n",
        "sns.boxplot(x='variable', y='value', data=pd.melt(df[quant_columns]))\n",
        "fig.show()"
      ],
      "execution_count": 63,
      "outputs": [
        {
          "output_type": "display_data",
          "data": {
            "image/png": "[encoded data removed]",
            "text/plain": [
              "<Figure size 1440x720 with 1 Axes>"
            ]
          },
          "metadata": {
            "tags": []
          }
        }
      ]
    },
    {
      "cell_type": "code",
      "metadata": {
        "id": "5fPWUV-akFWM",
        "colab_type": "code",
        "outputId": "ad702daf-5a61-45c8-bd76-4a8dac7a83b2",
        "colab": {
          "base_uri": "https://localhost:8080/",
          "height": 305
        }
      },
      "source": [
        "fig = plt.figure(figsize=(5, 5)) \n",
        "sns.boxplot(y='synth_sales', data=df)\n",
        "fig.show()"
      ],
      "execution_count": 64,
      "outputs": [
        {
          "output_type": "display_data",
          "data": {
            "image/png": "[encoded data removed]",
            "text/plain": [
              "<Figure size 360x360 with 1 Axes>"
            ]
          },
          "metadata": {
            "tags": []
          }
        }
      ]
    },
    {
      "cell_type": "code",
      "metadata": {
        "id": "TPpuKKnMi2mP",
        "colab_type": "code",
        "colab": {}
      },
      "source": [
        "sales_monthly = pd.DataFrame(df['synth_sales'].groupby(pd.Grouper(freq='M')).sum())\n",
        "sales_monthly['all_sales'] = all_items_df['synth_sales'].groupby(pd.Grouper(freq='M')).sum()\n",
        "sales_monthly['sales_ma'] = sales_monthly['synth_sales'].rolling(6).mean()"
      ],
      "execution_count": 0,
      "outputs": []
    },
    {
      "cell_type": "code",
      "metadata": {
        "id": "a40iPIP7lZKN",
        "colab_type": "code",
        "outputId": "9cc3c84d-e759-4ef6-d4cf-193b7575f4d5",
        "colab": {
          "base_uri": "https://localhost:8080/",
          "height": 351
        }
      },
      "source": [
        "fig = plt.figure(figsize=(20, 5))\n",
        "plt.plot(sales_monthly.index, sales_monthly.synth_sales, color='blue')\n",
        "plt.plot(sales_monthly.index, sales_monthly.sales_ma, color='red')\n",
        "plt.plot(sales_monthly.index, sales_monthly.all_sales, color='gold')\n",
        "fig.show()"
      ],
      "execution_count": 66,
      "outputs": [
        {
          "output_type": "display_data",
          "data": {
            "image/png": "[encoded data removed]",
            "text/plain": [
              "<Figure size 1440x360 with 1 Axes>"
            ]
          },
          "metadata": {
            "tags": []
          }
        }
      ]
    },
    {
      "cell_type": "markdown",
      "metadata": {
        "id": "JvTXPy90FNf-",
        "colab_type": "text"
      },
      "source": [
        "The figure above shows:\n",
        "1. Strong seasonal patern\n",
        "2. Sales ammount is on positive trend\n",
        "3. Timeseries is unstationary, so it should be normalized for further processing\n",
        "4. Outliers, removed from the dataset makes up an important part of sales so can't be easily excluded\n",
        "5. The most differences is in the seasonal peaks - investigation of this point can show which costly alco items are trendy in the specific season\n",
        "6. Line which include all items growth faster than filtered - it can means that consumption of high price drinks grows, or people prefer to by it by bigger groups."
      ]
    },
    {
      "cell_type": "code",
      "metadata": {
        "id": "h-RzA7bNWjo3",
        "colab_type": "code",
        "colab": {}
      },
      "source": [
        "corr_df = all_items_df.corr()"
      ],
      "execution_count": 0,
      "outputs": []
    },
    {
      "cell_type": "code",
      "metadata": {
        "id": "x1NnZvUibf0N",
        "colab_type": "code",
        "colab": {
          "base_uri": "https://localhost:8080/",
          "height": 427
        },
        "outputId": "fab72dca-4597-4a15-948b-56cf49ce1579"
      },
      "source": [
        "corr_df"
      ],
      "execution_count": 79,
      "outputs": [
        {
          "output_type": "execute_result",
          "data": {
            "text/html": [
              "<div>\n",
              "<style scoped>\n",
              "    .dataframe tbody tr th:only-of-type {\n",
              "        vertical-align: middle;\n",
              "    }\n",
              "\n",
              "    .dataframe tbody tr th {\n",
              "        vertical-align: top;\n",
              "    }\n",
              "\n",
              "    .dataframe thead th {\n",
              "        text-align: right;\n",
              "    }\n",
              "</style>\n",
              "<table border=\"1\" class=\"dataframe\">\n",
              "  <thead>\n",
              "    <tr style=\"text-align: right;\">\n",
              "      <th></th>\n",
              "      <th>store_number</th>\n",
              "      <th>zip_code</th>\n",
              "      <th>county_number</th>\n",
              "      <th>vendor_number</th>\n",
              "      <th>item_number</th>\n",
              "      <th>pack</th>\n",
              "      <th>bottle_volume_ml</th>\n",
              "      <th>state_bottle_cost</th>\n",
              "      <th>state_bottle_retail</th>\n",
              "      <th>bottles_sold</th>\n",
              "      <th>sale_dollars</th>\n",
              "      <th>synth_sales</th>\n",
              "    </tr>\n",
              "  </thead>\n",
              "  <tbody>\n",
              "    <tr>\n",
              "      <th>store_number</th>\n",
              "      <td>1.000000</td>\n",
              "      <td>-0.019903</td>\n",
              "      <td>-0.037591</td>\n",
              "      <td>0.001128</td>\n",
              "      <td>-0.022919</td>\n",
              "      <td>0.105401</td>\n",
              "      <td>-0.058971</td>\n",
              "      <td>-0.044464</td>\n",
              "      <td>-0.044687</td>\n",
              "      <td>0.005125</td>\n",
              "      <td>-0.025130</td>\n",
              "      <td>-0.025443</td>\n",
              "    </tr>\n",
              "    <tr>\n",
              "      <th>zip_code</th>\n",
              "      <td>-0.019903</td>\n",
              "      <td>1.000000</td>\n",
              "      <td>0.635329</td>\n",
              "      <td>-0.000342</td>\n",
              "      <td>0.001171</td>\n",
              "      <td>-0.005460</td>\n",
              "      <td>0.004056</td>\n",
              "      <td>-0.001956</td>\n",
              "      <td>-0.001916</td>\n",
              "      <td>0.000125</td>\n",
              "      <td>-0.001756</td>\n",
              "      <td>-0.001885</td>\n",
              "    </tr>\n",
              "    <tr>\n",
              "      <th>county_number</th>\n",
              "      <td>-0.037591</td>\n",
              "      <td>0.635329</td>\n",
              "      <td>1.000000</td>\n",
              "      <td>-0.000690</td>\n",
              "      <td>0.002731</td>\n",
              "      <td>-0.007233</td>\n",
              "      <td>0.001170</td>\n",
              "      <td>0.003857</td>\n",
              "      <td>0.003907</td>\n",
              "      <td>0.005278</td>\n",
              "      <td>0.005048</td>\n",
              "      <td>0.004970</td>\n",
              "    </tr>\n",
              "    <tr>\n",
              "      <th>vendor_number</th>\n",
              "      <td>0.001128</td>\n",
              "      <td>-0.000342</td>\n",
              "      <td>-0.000690</td>\n",
              "      <td>1.000000</td>\n",
              "      <td>0.129516</td>\n",
              "      <td>-0.038652</td>\n",
              "      <td>0.010868</td>\n",
              "      <td>0.006443</td>\n",
              "      <td>0.006189</td>\n",
              "      <td>0.010737</td>\n",
              "      <td>-0.004478</td>\n",
              "      <td>-0.004414</td>\n",
              "    </tr>\n",
              "    <tr>\n",
              "      <th>item_number</th>\n",
              "      <td>-0.022919</td>\n",
              "      <td>0.001171</td>\n",
              "      <td>0.002731</td>\n",
              "      <td>0.129516</td>\n",
              "      <td>1.000000</td>\n",
              "      <td>-0.022789</td>\n",
              "      <td>-0.023381</td>\n",
              "      <td>0.085852</td>\n",
              "      <td>0.085724</td>\n",
              "      <td>0.020549</td>\n",
              "      <td>0.026591</td>\n",
              "      <td>0.026378</td>\n",
              "    </tr>\n",
              "    <tr>\n",
              "      <th>pack</th>\n",
              "      <td>0.105401</td>\n",
              "      <td>-0.005460</td>\n",
              "      <td>-0.007233</td>\n",
              "      <td>-0.038652</td>\n",
              "      <td>-0.022789</td>\n",
              "      <td>1.000000</td>\n",
              "      <td>-0.454334</td>\n",
              "      <td>-0.253085</td>\n",
              "      <td>-0.253460</td>\n",
              "      <td>0.121091</td>\n",
              "      <td>-0.047366</td>\n",
              "      <td>-0.047397</td>\n",
              "    </tr>\n",
              "    <tr>\n",
              "      <th>bottle_volume_ml</th>\n",
              "      <td>-0.058971</td>\n",
              "      <td>0.004056</td>\n",
              "      <td>0.001170</td>\n",
              "      <td>0.010868</td>\n",
              "      <td>-0.023381</td>\n",
              "      <td>-0.454334</td>\n",
              "      <td>1.000000</td>\n",
              "      <td>0.449952</td>\n",
              "      <td>0.450294</td>\n",
              "      <td>-0.014374</td>\n",
              "      <td>0.062706</td>\n",
              "      <td>0.062701</td>\n",
              "    </tr>\n",
              "    <tr>\n",
              "      <th>state_bottle_cost</th>\n",
              "      <td>-0.044464</td>\n",
              "      <td>-0.001956</td>\n",
              "      <td>0.003857</td>\n",
              "      <td>0.006443</td>\n",
              "      <td>0.085852</td>\n",
              "      <td>-0.253085</td>\n",
              "      <td>0.449952</td>\n",
              "      <td>1.000000</td>\n",
              "      <td>0.999966</td>\n",
              "      <td>-0.040004</td>\n",
              "      <td>0.102098</td>\n",
              "      <td>0.102311</td>\n",
              "    </tr>\n",
              "    <tr>\n",
              "      <th>state_bottle_retail</th>\n",
              "      <td>-0.044687</td>\n",
              "      <td>-0.001916</td>\n",
              "      <td>0.003907</td>\n",
              "      <td>0.006189</td>\n",
              "      <td>0.085724</td>\n",
              "      <td>-0.253460</td>\n",
              "      <td>0.450294</td>\n",
              "      <td>0.999966</td>\n",
              "      <td>1.000000</td>\n",
              "      <td>-0.039998</td>\n",
              "      <td>0.102141</td>\n",
              "      <td>0.102359</td>\n",
              "    </tr>\n",
              "    <tr>\n",
              "      <th>bottles_sold</th>\n",
              "      <td>0.005125</td>\n",
              "      <td>0.000125</td>\n",
              "      <td>0.005278</td>\n",
              "      <td>0.010737</td>\n",
              "      <td>0.020549</td>\n",
              "      <td>0.121091</td>\n",
              "      <td>-0.014374</td>\n",
              "      <td>-0.040004</td>\n",
              "      <td>-0.039998</td>\n",
              "      <td>1.000000</td>\n",
              "      <td>0.837526</td>\n",
              "      <td>0.837378</td>\n",
              "    </tr>\n",
              "    <tr>\n",
              "      <th>sale_dollars</th>\n",
              "      <td>-0.025130</td>\n",
              "      <td>-0.001756</td>\n",
              "      <td>0.005048</td>\n",
              "      <td>-0.004478</td>\n",
              "      <td>0.026591</td>\n",
              "      <td>-0.047366</td>\n",
              "      <td>0.062706</td>\n",
              "      <td>0.102098</td>\n",
              "      <td>0.102141</td>\n",
              "      <td>0.837526</td>\n",
              "      <td>1.000000</td>\n",
              "      <td>0.999482</td>\n",
              "    </tr>\n",
              "    <tr>\n",
              "      <th>synth_sales</th>\n",
              "      <td>-0.025443</td>\n",
              "      <td>-0.001885</td>\n",
              "      <td>0.004970</td>\n",
              "      <td>-0.004414</td>\n",
              "      <td>0.026378</td>\n",
              "      <td>-0.047397</td>\n",
              "      <td>0.062701</td>\n",
              "      <td>0.102311</td>\n",
              "      <td>0.102359</td>\n",
              "      <td>0.837378</td>\n",
              "      <td>0.999482</td>\n",
              "      <td>1.000000</td>\n",
              "    </tr>\n",
              "  </tbody>\n",
              "</table>\n",
              "</div>"
            ],
            "text/plain": [
              "                     store_number  zip_code  ...  sale_dollars  synth_sales\n",
              "store_number             1.000000 -0.019903  ...     -0.025130    -0.025443\n",
              "zip_code                -0.019903  1.000000  ...     -0.001756    -0.001885\n",
              "county_number           -0.037591  0.635329  ...      0.005048     0.004970\n",
              "vendor_number            0.001128 -0.000342  ...     -0.004478    -0.004414\n",
              "item_number             -0.022919  0.001171  ...      0.026591     0.026378\n",
              "pack                     0.105401 -0.005460  ...     -0.047366    -0.047397\n",
              "bottle_volume_ml        -0.058971  0.004056  ...      0.062706     0.062701\n",
              "state_bottle_cost       -0.044464 -0.001956  ...      0.102098     0.102311\n",
              "state_bottle_retail     -0.044687 -0.001916  ...      0.102141     0.102359\n",
              "bottles_sold             0.005125  0.000125  ...      0.837526     0.837378\n",
              "sale_dollars            -0.025130 -0.001756  ...      1.000000     0.999482\n",
              "synth_sales             -0.025443 -0.001885  ...      0.999482     1.000000\n",
              "\n",
              "[12 rows x 12 columns]"
            ]
          },
          "metadata": {
            "tags": []
          },
          "execution_count": 79
        }
      ]
    },
    {
      "cell_type": "code",
      "metadata": {
        "id": "eqnyVHq6gHB7",
        "colab_type": "code",
        "colab": {}
      },
      "source": [
        "mask = np.zeros_like(corr_df.values)\n",
        "mask[np.triu_indices_from(mask)] = True"
      ],
      "execution_count": 0,
      "outputs": []
    },
    {
      "cell_type": "code",
      "metadata": {
        "id": "FwB0tNVXCP18",
        "colab_type": "code",
        "outputId": "1a6f3432-49ce-4562-a827-1232e8f077a0",
        "colab": {
          "base_uri": "https://localhost:8080/",
          "height": 616
        }
      },
      "source": [
        "f, ax = plt.subplots(figsize=(11, 9))\n",
        "cmap = sns.diverging_palette(220, 10, as_cmap=True)\n",
        "sns.heatmap(corr_df, cmap=cmap, vmax=.3, center=0,\n",
        "            square=True, linewidths=.5, cbar_kws={\"shrink\": .5}, annot=True, mask=mask)\n",
        "f.show()"
      ],
      "execution_count": 87,
      "outputs": [
        {
          "output_type": "display_data",
          "data": {
            "image/png": "[encoded data removed]",
            "text/plain": [
              "<Figure size 792x648 with 2 Axes>"
            ]
          },
          "metadata": {
            "tags": []
          }
        }
      ]
    },
    {
      "cell_type": "markdown",
      "metadata": {
        "id": "YDt9d47tg-Vq",
        "colab_type": "text"
      },
      "source": [
        "And here is few interesting correlations:\n",
        "1. First thing - strong negative correlation between bottle volume and q-ty of bottles in pack\n",
        "2. Also there in negative correlation between bottle cost and q-ty in pack.\n",
        "\n"
      ]
    },
    {
      "cell_type": "markdown",
      "metadata": {
        "id": "czOrCXRtlhCK",
        "colab_type": "text"
      },
      "source": [
        "# Valuable information that can be presented for business:\n",
        "1. Market analysis - sales trend, seasonal decomposition for demand planning, split by cities / counties, sales predictions (Holt-Winters, ARIMA, etc.)\n",
        "2. Existing prices on the market for items, categories, trends and dynamics over time.\n",
        "3. If to add information about population in the cities - average alcohol consumption for person, cities where demand is higher than proposal (city demand - avg state demand)\n",
        "4. Competitors analysis - items range for every / most trending vendors, popular items which are not presented in the market, vendor price segment.\n",
        "5. Cities with low competition - where only few vendors presented (better to match with population info)\n",
        "6. Trending items by volumes over time."
      ]
    }
  ]
}