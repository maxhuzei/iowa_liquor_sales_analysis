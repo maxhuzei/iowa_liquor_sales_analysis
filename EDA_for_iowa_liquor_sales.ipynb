{
  "nbformat": 4,
  "nbformat_minor": 0,
  "metadata": {
    "colab": {
      "name": "EDA_for_iowa_liquor_sales.ipynb",
      "provenance": [],
      "collapsed_sections": [
        "Aqe9RMSolS6H"
      ]
    },
    "kernelspec": {
      "name": "python3",
      "display_name": "Python 3"
    },
    "accelerator": "TPU"
  },
  "cells": [
    {
      "cell_type": "code",
      "metadata": {
        "id": "k8dl5qrG7BfM",
        "colab_type": "code",
        "colab": {}
      },
      "source": [
        "#libraries for data processing\n",
        "import numpy as np\n",
        "import pandas as pd\n",
        "\n",
        "#for data importing\n",
        "from google.cloud import bigquery\n",
        "import google.auth\n",
        "\n",
        "#for visualization\n",
        "import matplotlib.pyplot as plt\n",
        "import seaborn as sns\n",
        "\n",
        "#different\n",
        "import warnings\n",
        "warnings.filterwarnings('ignore')\n",
        "from google.colab import  files"
      ],
      "execution_count": 0,
      "outputs": []
    },
    {
      "cell_type": "markdown",
      "metadata": {
        "id": "uxr9X5VBlRL7",
        "colab_type": "text"
      },
      "source": [
        "# 1. Connecting to data\n",
        "Creating bigquery API client for data importing. For the authorisation will be used special service account - the .json keys can be found in the root of repository with name service_key.json."
      ]
    },
    {
      "cell_type": "code",
      "metadata": {
        "id": "Nc6XcoduvjMe",
        "colab_type": "code",
        "colab": {
          "resources": {
            "http://localhost:8080/nbextensions/google.colab/files.js": {
              "data": "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",
              "ok": true,
              "headers": [
                [
                  "content-type",
                  "application/javascript"
                ]
              ],
              "status": 200,
              "status_text": ""
            }
          },
          "base_uri": "https://localhost:8080/",
          "height": 57
        },
        "outputId": "2f631651-6998-44f7-9f7c-11a8d40907c9"
      },
      "source": [
        "#please upload the service key to the root directory of the project here.\n",
        "files.upload()"
      ],
      "execution_count": 3,
      "outputs": [
        {
          "output_type": "display_data",
          "data": {
            "text/html": [
              "\n",
              "     <input type=\"file\" id=\"files-52640abf-1267-4141-86fd-b767ce1ebecf\" name=\"files[]\" multiple disabled />\n",
              "     <output id=\"result-52640abf-1267-4141-86fd-b767ce1ebecf\">\n",
              "      Upload widget is only available when the cell has been executed in the\n",
              "      current browser session. Please rerun this cell to enable.\n",
              "      </output>\n",
              "      <script src=\"/nbextensions/google.colab/files.js\"></script> "
            ],
            "text/plain": [
              "<IPython.core.display.HTML object>"
            ]
          },
          "metadata": {
            "tags": []
          }
        },
        {
          "output_type": "execute_result",
          "data": {
            "text/plain": [
              "{}"
            ]
          },
          "metadata": {
            "tags": []
          },
          "execution_count": 3
        }
      ]
    },
    {
      "cell_type": "code",
      "metadata": {
        "id": "3bZcEwfPlBWk",
        "colab_type": "code",
        "colab": {
          "base_uri": "https://localhost:8080/",
          "height": 34
        },
        "outputId": "db8c3a0b-d107-46f3-8382-3ff4c11660bc"
      },
      "source": [
        "try:\n",
        "  bq_client = bigquery.Client.from_service_account_json('./service_key.json')\n",
        "  print(\"The client is successfully created!\")\n",
        "except FileNotFoundError: \n",
        "  print(\"Something went wrong, please make sure service key is uploaded on previous step!\")"
      ],
      "execution_count": 4,
      "outputs": [
        {
          "output_type": "stream",
          "text": [
            "The client is successfully created!\n"
          ],
          "name": "stdout"
        }
      ]
    },
    {
      "cell_type": "markdown",
      "metadata": {
        "id": "Yj6jwVQGm5f3",
        "colab_type": "text"
      },
      "source": [
        "# 2. Reviewing the data and understanding the variables\n",
        "Collecting the initial piece of data (10k rows) to explore the structure and values of data:"
      ]
    },
    {
      "cell_type": "code",
      "metadata": {
        "id": "bqNV07fMFrw6",
        "colab_type": "code",
        "outputId": "12c55cb0-f6b0-48ed-dbe7-33e3197cf23e",
        "colab": {
          "base_uri": "https://localhost:8080/",
          "height": 532
        }
      },
      "source": [
        "init_query = \"SELECT * FROM bigquery-public-data.iowa_liquor_sales.sales LIMIT 1000\"\n",
        "init_df = bq_client.query(init_query).result().to_dataframe()\n",
        "init_df.info()"
      ],
      "execution_count": 5,
      "outputs": [
        {
          "output_type": "stream",
          "text": [
            "<class 'pandas.core.frame.DataFrame'>\n",
            "RangeIndex: 1000 entries, 0 to 999\n",
            "Data columns (total 24 columns):\n",
            "invoice_and_item_number    1000 non-null object\n",
            "date                       1000 non-null object\n",
            "store_number               1000 non-null object\n",
            "store_name                 1000 non-null object\n",
            "address                    996 non-null object\n",
            "city                       996 non-null object\n",
            "zip_code                   996 non-null object\n",
            "store_location             918 non-null object\n",
            "county_number              995 non-null object\n",
            "county                     995 non-null object\n",
            "category                   967 non-null object\n",
            "category_name              966 non-null object\n",
            "vendor_number              1000 non-null object\n",
            "vendor_name                1000 non-null object\n",
            "item_number                1000 non-null object\n",
            "item_description           1000 non-null object\n",
            "pack                       1000 non-null int64\n",
            "bottle_volume_ml           1000 non-null int64\n",
            "state_bottle_cost          1000 non-null float64\n",
            "state_bottle_retail        1000 non-null float64\n",
            "bottles_sold               1000 non-null int64\n",
            "sale_dollars               1000 non-null float64\n",
            "volume_sold_liters         1000 non-null float64\n",
            "volume_sold_gallons        1000 non-null float64\n",
            "dtypes: float64(5), int64(3), object(16)\n",
            "memory usage: 187.6+ KB\n"
          ],
          "name": "stdout"
        }
      ]
    },
    {
      "cell_type": "code",
      "metadata": {
        "id": "VtPPCWC97QlX",
        "colab_type": "code",
        "outputId": "902d7f24-8478-4a87-c129-ca8235433177",
        "colab": {
          "base_uri": "https://localhost:8080/",
          "height": 417
        }
      },
      "source": [
        "init_df.head()"
      ],
      "execution_count": 6,
      "outputs": [
        {
          "output_type": "execute_result",
          "data": {
            "text/html": [
              "<div>\n",
              "<style scoped>\n",
              "    .dataframe tbody tr th:only-of-type {\n",
              "        vertical-align: middle;\n",
              "    }\n",
              "\n",
              "    .dataframe tbody tr th {\n",
              "        vertical-align: top;\n",
              "    }\n",
              "\n",
              "    .dataframe thead th {\n",
              "        text-align: right;\n",
              "    }\n",
              "</style>\n",
              "<table border=\"1\" class=\"dataframe\">\n",
              "  <thead>\n",
              "    <tr style=\"text-align: right;\">\n",
              "      <th></th>\n",
              "      <th>invoice_and_item_number</th>\n",
              "      <th>date</th>\n",
              "      <th>store_number</th>\n",
              "      <th>store_name</th>\n",
              "      <th>address</th>\n",
              "      <th>city</th>\n",
              "      <th>zip_code</th>\n",
              "      <th>store_location</th>\n",
              "      <th>county_number</th>\n",
              "      <th>county</th>\n",
              "      <th>category</th>\n",
              "      <th>category_name</th>\n",
              "      <th>vendor_number</th>\n",
              "      <th>vendor_name</th>\n",
              "      <th>item_number</th>\n",
              "      <th>item_description</th>\n",
              "      <th>pack</th>\n",
              "      <th>bottle_volume_ml</th>\n",
              "      <th>state_bottle_cost</th>\n",
              "      <th>state_bottle_retail</th>\n",
              "      <th>bottles_sold</th>\n",
              "      <th>sale_dollars</th>\n",
              "      <th>volume_sold_liters</th>\n",
              "      <th>volume_sold_gallons</th>\n",
              "    </tr>\n",
              "  </thead>\n",
              "  <tbody>\n",
              "    <tr>\n",
              "      <th>0</th>\n",
              "      <td>S08285200001</td>\n",
              "      <td>2012-10-15</td>\n",
              "      <td>4565</td>\n",
              "      <td>KUM &amp; GO #228 / Sioux city</td>\n",
              "      <td>1925 S LAKEPORT ST</td>\n",
              "      <td>SIOUX CITY</td>\n",
              "      <td>51106</td>\n",
              "      <td>POINT (-96.346548 42.469008)</td>\n",
              "      <td>97</td>\n",
              "      <td>Woodbury</td>\n",
              "      <td>1011500</td>\n",
              "      <td>STRAIGHT RYE WHISKIES</td>\n",
              "      <td>255</td>\n",
              "      <td>Wilson Daniels Ltd.</td>\n",
              "      <td>27102</td>\n",
              "      <td>Templeton Rye</td>\n",
              "      <td>6</td>\n",
              "      <td>750</td>\n",
              "      <td>18.08</td>\n",
              "      <td>27.13</td>\n",
              "      <td>30</td>\n",
              "      <td>813.90</td>\n",
              "      <td>22.5</td>\n",
              "      <td>5.94</td>\n",
              "    </tr>\n",
              "    <tr>\n",
              "      <th>1</th>\n",
              "      <td>S26172100046</td>\n",
              "      <td>2015-06-15</td>\n",
              "      <td>3385</td>\n",
              "      <td>Sam's Club 8162 / Cedar Rapids</td>\n",
              "      <td>2605 BLAIRS FERRY RD NE</td>\n",
              "      <td>CEDAR RAPIDS</td>\n",
              "      <td>52402</td>\n",
              "      <td>POINT (-91.67969 42.031819)</td>\n",
              "      <td>57</td>\n",
              "      <td>Linn</td>\n",
              "      <td>1011500</td>\n",
              "      <td>STRAIGHT RYE WHISKIES</td>\n",
              "      <td>255</td>\n",
              "      <td>Wilson Daniels Ltd.</td>\n",
              "      <td>27102</td>\n",
              "      <td>Templeton Rye</td>\n",
              "      <td>6</td>\n",
              "      <td>750</td>\n",
              "      <td>18.09</td>\n",
              "      <td>27.14</td>\n",
              "      <td>30</td>\n",
              "      <td>814.20</td>\n",
              "      <td>22.5</td>\n",
              "      <td>5.94</td>\n",
              "    </tr>\n",
              "    <tr>\n",
              "      <th>2</th>\n",
              "      <td>INV-00049200015</td>\n",
              "      <td>2016-08-31</td>\n",
              "      <td>2512</td>\n",
              "      <td>Hy-Vee Wine and Spirits / Iowa City</td>\n",
              "      <td>1720 Waterfront Dr</td>\n",
              "      <td>Iowa City</td>\n",
              "      <td>52240</td>\n",
              "      <td>POINT (-91.53046300000001 41.642764)</td>\n",
              "      <td>52</td>\n",
              "      <td>JOHNSON</td>\n",
              "      <td>1031000</td>\n",
              "      <td>American Vodka</td>\n",
              "      <td>301</td>\n",
              "      <td>FIFTH GENERATION INC</td>\n",
              "      <td>38177</td>\n",
              "      <td>Titos Handmade Vodka</td>\n",
              "      <td>12</td>\n",
              "      <td>1000</td>\n",
              "      <td>11.92</td>\n",
              "      <td>17.88</td>\n",
              "      <td>5</td>\n",
              "      <td>214.56</td>\n",
              "      <td>5.0</td>\n",
              "      <td>1.32</td>\n",
              "    </tr>\n",
              "    <tr>\n",
              "      <th>3</th>\n",
              "      <td>S21591000003</td>\n",
              "      <td>2014-10-06</td>\n",
              "      <td>2555</td>\n",
              "      <td>Hy-Vee Food Store / Keokuk</td>\n",
              "      <td>3111 MAIN</td>\n",
              "      <td>KEOKUK</td>\n",
              "      <td>52632</td>\n",
              "      <td>POINT (-91.403752 40.41538)</td>\n",
              "      <td>56</td>\n",
              "      <td>Lee</td>\n",
              "      <td>1701100</td>\n",
              "      <td>DECANTERS &amp; SPECIALTY PACKAGES</td>\n",
              "      <td>65</td>\n",
              "      <td>Jim Beam Brands</td>\n",
              "      <td>407</td>\n",
              "      <td>Jim Beam w/3-50mls</td>\n",
              "      <td>6</td>\n",
              "      <td>900</td>\n",
              "      <td>10.49</td>\n",
              "      <td>15.74</td>\n",
              "      <td>6</td>\n",
              "      <td>94.44</td>\n",
              "      <td>5.4</td>\n",
              "      <td>1.43</td>\n",
              "    </tr>\n",
              "    <tr>\n",
              "      <th>4</th>\n",
              "      <td>INV-21652100005</td>\n",
              "      <td>2019-09-03</td>\n",
              "      <td>3612</td>\n",
              "      <td>B and C Liquor / Maquoketa</td>\n",
              "      <td>509 E Platt</td>\n",
              "      <td>Maquoketa</td>\n",
              "      <td>52060</td>\n",
              "      <td>POINT (-90.659692 42.06922000000001)</td>\n",
              "      <td>49</td>\n",
              "      <td>JACKSON</td>\n",
              "      <td>1701100</td>\n",
              "      <td>Temporary &amp; Specialty Packages</td>\n",
              "      <td>255</td>\n",
              "      <td>Infinium Spirits</td>\n",
              "      <td>100877</td>\n",
              "      <td>Seagrams Extra Smooth w/Lime 50ml</td>\n",
              "      <td>6</td>\n",
              "      <td>2250</td>\n",
              "      <td>10.00</td>\n",
              "      <td>15.00</td>\n",
              "      <td>6</td>\n",
              "      <td>90.00</td>\n",
              "      <td>13.5</td>\n",
              "      <td>3.56</td>\n",
              "    </tr>\n",
              "  </tbody>\n",
              "</table>\n",
              "</div>"
            ],
            "text/plain": [
              "  invoice_and_item_number        date  ... volume_sold_liters volume_sold_gallons\n",
              "0            S08285200001  2012-10-15  ...               22.5                5.94\n",
              "1            S26172100046  2015-06-15  ...               22.5                5.94\n",
              "2         INV-00049200015  2016-08-31  ...                5.0                1.32\n",
              "3            S21591000003  2014-10-06  ...                5.4                1.43\n",
              "4         INV-21652100005  2019-09-03  ...               13.5                3.56\n",
              "\n",
              "[5 rows x 24 columns]"
            ]
          },
          "metadata": {
            "tags": []
          },
          "execution_count": 6
        }
      ]
    },
    {
      "cell_type": "code",
      "metadata": {
        "id": "yhp7QZf0ps_D",
        "colab_type": "code",
        "outputId": "b5b7b411-9cfc-4600-f76c-28f6ef6ffe51",
        "colab": {
          "base_uri": "https://localhost:8080/",
          "height": 461
        }
      },
      "source": [
        "print('\\n'.join(list(init_df.columns)))\n",
        "print('Columns q-ty: ' + str(len(init_df.columns)))"
      ],
      "execution_count": 7,
      "outputs": [
        {
          "output_type": "stream",
          "text": [
            "invoice_and_item_number\n",
            "date\n",
            "store_number\n",
            "store_name\n",
            "address\n",
            "city\n",
            "zip_code\n",
            "store_location\n",
            "county_number\n",
            "county\n",
            "category\n",
            "category_name\n",
            "vendor_number\n",
            "vendor_name\n",
            "item_number\n",
            "item_description\n",
            "pack\n",
            "bottle_volume_ml\n",
            "state_bottle_cost\n",
            "state_bottle_retail\n",
            "bottles_sold\n",
            "sale_dollars\n",
            "volume_sold_liters\n",
            "volume_sold_gallons\n",
            "Columns q-ty: 24\n"
          ],
          "name": "stdout"
        }
      ]
    },
    {
      "cell_type": "markdown",
      "metadata": {
        "id": "iL6cO00QrdJS",
        "colab_type": "text"
      },
      "source": [
        "Dataset weight in Google Cloud storage - 4.68 GB, so size should be reduced to efficiently download and process it in RAM. \n",
        "**invoice_and_item_number** column serves only as unique identifier for each record, so can be removed from analysis.\n",
        "\n",
        "As per dataset is the timeseries - **date** column will be used as an index.\n",
        "\n",
        "Mentioned below coumns contains categorical data and can be replaced with synthetic analogs:\n",
        "* store_number and store_name\n",
        "* county_number and county\n",
        "* category and category_name\n",
        "* vendor_number and vendor_name\n",
        "* item_number and item_description\n",
        "\n",
        "Also, next set of columns contains empty values - all of them are categorical,  so can be easily handled during dataset upload:\n",
        "* address\n",
        "* city\n",
        "* zip_code\n",
        "* store_location\n",
        "* county_number\n",
        "* county\n",
        "* category\n",
        "* category_name\n",
        "* vendor_number\n",
        "\n",
        "Next set of column contain the numerical data: \n",
        "* pack - discrete, q-ty of bottles in package\n",
        "* bottle_volume_ml\n",
        "* state_bottle_cost - price for buying one bottle\n",
        "* state_bottle_retail - price for selling one bottle\n",
        "* bottles_sold\n",
        "* sale_dollars\n",
        "* volume_sold_liters\n",
        "* volume_sold_gallons - needs to be checked with *volume_sold_liters*\n",
        "\n",
        "**sale_dollars** or **bottles_sold** columns are the dependednt variable, all others are the predictors."
      ]
    },
    {
      "cell_type": "markdown",
      "metadata": {
        "id": "NHkkoxp54y6y",
        "colab_type": "text"
      },
      "source": [
        "### Looking for overall dataset size and maximum values of columns"
      ]
    },
    {
      "cell_type": "code",
      "metadata": {
        "id": "EMk986om4xBd",
        "colab_type": "code",
        "colab": {}
      },
      "source": [
        "data_descr_query = \"\"\"\n",
        "SELECT \n",
        "    \"MAX Values\" AS descr,\n",
        "    MAX(store_number) AS max_store_num,\n",
        "    MAX(vendor_number) AS max_vendor_num,\n",
        "    MAX(zip_code) AS max_zip,\n",
        "    MAX(item_number) AS max_item_num,\n",
        "    MAX(pack) AS pack_max,\n",
        "    MAX(bottle_volume_ml) AS volume_max,\n",
        "    MAX(state_bottle_cost) AS max_bottle_cost,\n",
        "    MAX(state_bottle_retail) AS max_retail,\n",
        "    MAX(bottles_sold) AS max_bottles_sold,\n",
        "    MAX(sale_dollars) AS max_sale_dollars\n",
        "FROM bigquery-public-data.iowa_liquor_sales.sales\n",
        "UNION ALL\n",
        "SELECT \n",
        "    \"MIN Values\" AS descr,\n",
        "    MIN(store_number) AS max_store_num,\n",
        "    MIN(vendor_number) AS max_vendor_num,\n",
        "    MIN(zip_code) AS max_zip,\n",
        "    MIN(item_number) AS max_item_num,\n",
        "    MIN(pack) AS pack_max,\n",
        "    MIN(bottle_volume_ml) AS volume_max,\n",
        "    MIN(state_bottle_cost) AS max_bottle_cost,\n",
        "    MIN(state_bottle_retail) AS max_retail,\n",
        "    MIN(bottles_sold) AS max_bottles_sold,\n",
        "    MIN(sale_dollars) AS max_sale_dollars\n",
        "FROM bigquery-public-data.iowa_liquor_sales.sales\n",
        "\"\"\"\n",
        "overall_count_query = \"SELECT COUNT(*) AS overall_count FROM bigquery-public-data.iowa_liquor_sales.sales\""
      ],
      "execution_count": 0,
      "outputs": []
    },
    {
      "cell_type": "code",
      "metadata": {
        "id": "xhr1Hm_G5Hqu",
        "colab_type": "code",
        "colab": {}
      },
      "source": [
        "data_descr_df = bq_client.query(data_descr_query).result().to_dataframe()\n",
        "overall_count = bq_client.query(overall_count_query).result().to_dataframe()"
      ],
      "execution_count": 0,
      "outputs": []
    },
    {
      "cell_type": "code",
      "metadata": {
        "id": "_TROILKo9E5b",
        "colab_type": "code",
        "colab": {
          "base_uri": "https://localhost:8080/",
          "height": 77
        },
        "outputId": "38e17591-10c7-4833-c10b-cf1b658950a9"
      },
      "source": [
        "overall_count"
      ],
      "execution_count": 10,
      "outputs": [
        {
          "output_type": "execute_result",
          "data": {
            "text/html": [
              "<div>\n",
              "<style scoped>\n",
              "    .dataframe tbody tr th:only-of-type {\n",
              "        vertical-align: middle;\n",
              "    }\n",
              "\n",
              "    .dataframe tbody tr th {\n",
              "        vertical-align: top;\n",
              "    }\n",
              "\n",
              "    .dataframe thead th {\n",
              "        text-align: right;\n",
              "    }\n",
              "</style>\n",
              "<table border=\"1\" class=\"dataframe\">\n",
              "  <thead>\n",
              "    <tr style=\"text-align: right;\">\n",
              "      <th></th>\n",
              "      <th>overall_count</th>\n",
              "    </tr>\n",
              "  </thead>\n",
              "  <tbody>\n",
              "    <tr>\n",
              "      <th>0</th>\n",
              "      <td>18098417</td>\n",
              "    </tr>\n",
              "  </tbody>\n",
              "</table>\n",
              "</div>"
            ],
            "text/plain": [
              "   overall_count\n",
              "0       18098417"
            ]
          },
          "metadata": {
            "tags": []
          },
          "execution_count": 10
        }
      ]
    },
    {
      "cell_type": "code",
      "metadata": {
        "id": "qEa_Kajp9wNN",
        "colab_type": "code",
        "colab": {
          "base_uri": "https://localhost:8080/",
          "height": 107
        },
        "outputId": "e9c2bd55-afd2-422c-adf5-307390f95e97"
      },
      "source": [
        "data_descr_df"
      ],
      "execution_count": 11,
      "outputs": [
        {
          "output_type": "execute_result",
          "data": {
            "text/html": [
              "<div>\n",
              "<style scoped>\n",
              "    .dataframe tbody tr th:only-of-type {\n",
              "        vertical-align: middle;\n",
              "    }\n",
              "\n",
              "    .dataframe tbody tr th {\n",
              "        vertical-align: top;\n",
              "    }\n",
              "\n",
              "    .dataframe thead th {\n",
              "        text-align: right;\n",
              "    }\n",
              "</style>\n",
              "<table border=\"1\" class=\"dataframe\">\n",
              "  <thead>\n",
              "    <tr style=\"text-align: right;\">\n",
              "      <th></th>\n",
              "      <th>descr</th>\n",
              "      <th>max_store_num</th>\n",
              "      <th>max_vendor_num</th>\n",
              "      <th>max_zip</th>\n",
              "      <th>max_item_num</th>\n",
              "      <th>pack_max</th>\n",
              "      <th>volume_max</th>\n",
              "      <th>max_bottle_cost</th>\n",
              "      <th>max_retail</th>\n",
              "      <th>max_bottles_sold</th>\n",
              "      <th>max_sale_dollars</th>\n",
              "    </tr>\n",
              "  </thead>\n",
              "  <tbody>\n",
              "    <tr>\n",
              "      <th>0</th>\n",
              "      <td>MIN Values</td>\n",
              "      <td>2106</td>\n",
              "      <td>010</td>\n",
              "      <td>50002</td>\n",
              "      <td>100001</td>\n",
              "      <td>1</td>\n",
              "      <td>0</td>\n",
              "      <td>0.0</td>\n",
              "      <td>0.0</td>\n",
              "      <td>0</td>\n",
              "      <td>0.00</td>\n",
              "    </tr>\n",
              "    <tr>\n",
              "      <th>1</th>\n",
              "      <td>MAX Values</td>\n",
              "      <td>9938</td>\n",
              "      <td>987</td>\n",
              "      <td>80904</td>\n",
              "      <td>x904631</td>\n",
              "      <td>336</td>\n",
              "      <td>378000</td>\n",
              "      <td>7680.0</td>\n",
              "      <td>11520.0</td>\n",
              "      <td>15000</td>\n",
              "      <td>279557.28</td>\n",
              "    </tr>\n",
              "  </tbody>\n",
              "</table>\n",
              "</div>"
            ],
            "text/plain": [
              "        descr max_store_num  ... max_bottles_sold max_sale_dollars\n",
              "0  MIN Values          2106  ...                0             0.00\n",
              "1  MAX Values          9938  ...            15000        279557.28\n",
              "\n",
              "[2 rows x 11 columns]"
            ]
          },
          "metadata": {
            "tags": []
          },
          "execution_count": 11
        }
      ]
    },
    {
      "cell_type": "code",
      "metadata": {
        "id": "fLUrlWPd999r",
        "colab_type": "code",
        "colab": {}
      },
      "source": [
        "# specifying data types for data uploading\n",
        "dtypes = {'pack': np.int16, 'bottle_volume_ml': np.int32, 'state_bottle_cost': np.float32, \n",
        "          'state_bottle_retail': np.float32, 'bottles_sold': np.int16, 'zip_code': np.int32,\n",
        "          'store_number': np.int16, 'vendor_number': np.int16, 'county_number': np.int32}"
      ],
      "execution_count": 0,
      "outputs": []
    },
    {
      "cell_type": "code",
      "metadata": {
        "id": "ABkUnMkl-T_w",
        "colab_type": "code",
        "colab": {}
      },
      "source": [
        "# creating query for uploading the data with respect to missing values in categorical columns (every missing value should be replaced by unique identifier)\n",
        "all_items_query = \"\"\"\n",
        "SELECT\n",
        "    date,\n",
        "    COALESCE(SAFE_CAST(store_number AS NUMERIC), -999) AS store_number,\n",
        "    COALESCE(address, \"NO ADDRESS\") AS address,\n",
        "    COALESCE(city,\"NO CITY\") AS city,\n",
        "    COALESCE(SAFE_CAST(zip_code AS NUMERIC), -999) AS zip_code,\n",
        "    COALESCE(store_location, \"LOCATION UMKNOWN\") AS store_location,\n",
        "    COALESCE(SAFE_CAST(county_number AS NUMERIC), -999) AS county_number,\n",
        "    COALESCE(category, \"NO CATEGORY\") AS category,\n",
        "    COALESCE(SAFE_CAST(vendor_number AS NUMERIC), -999) AS vendor_number,\n",
        "    COALESCE(SAFE_CAST(item_number AS NUMERIC), -999) AS item_number, \n",
        "    pack,\n",
        "    bottle_volume_ml,\n",
        "    state_bottle_cost,\n",
        "    state_bottle_retail,\n",
        "    bottles_sold,\n",
        "    sale_dollars\n",
        "FROM bigquery-public-data.iowa_liquor_sales.sales\n",
        "\"\"\""
      ],
      "execution_count": 0,
      "outputs": []
    },
    {
      "cell_type": "code",
      "metadata": {
        "id": "4csF77We-pOP",
        "colab_type": "code",
        "colab": {}
      },
      "source": [
        "# if personal drive doesn't mounted to the collab - try to change address variable to your default\n",
        "# working directory\n",
        "address = r'./full_dataset.csv'\n",
        "try:\n",
        "  all_items_df = pd.read_csv(address, dtype=dtypes)\n",
        "except FileNotFoundError:\n",
        "  all_items_df = bq_client.query(all_items_query).result().to_dataframe(dtypes=dtypes)\n",
        "  try:\n",
        "    all_items_df.to_csv(address)\n",
        "  except:\n",
        "    pass"
      ],
      "execution_count": 0,
      "outputs": []
    },
    {
      "cell_type": "code",
      "metadata": {
        "id": "oLF88sRZ_Btg",
        "colab_type": "code",
        "colab": {}
      },
      "source": [
        "#changing the default index to datetime index\n",
        "all_items_df['date'] = pd.to_datetime(all_items_df['date'])\n",
        "all_items_df.set_index('date', inplace=True)\n",
        "all_items_df.drop('Unnamed: 0', axis=1, inplace=True)"
      ],
      "execution_count": 0,
      "outputs": []
    },
    {
      "cell_type": "code",
      "metadata": {
        "id": "ABgp9lOV_Blp",
        "colab_type": "code",
        "colab": {}
      },
      "source": [
        "# specifying function to adjust the view of the numerical columns\n",
        "format_columns = lambda s: s.apply(lambda x: format(x, '.2f'))"
      ],
      "execution_count": 0,
      "outputs": []
    },
    {
      "cell_type": "code",
      "metadata": {
        "id": "jVhgTtjj_sXa",
        "colab_type": "code",
        "colab": {
          "base_uri": "https://localhost:8080/",
          "height": 287
        },
        "outputId": "b27d9e12-4513-4bb7-890c-0843b6a009a1"
      },
      "source": [
        "all_items_df.describe().apply(format_columns)"
      ],
      "execution_count": 17,
      "outputs": [
        {
          "output_type": "execute_result",
          "data": {
            "text/html": [
              "<div>\n",
              "<style scoped>\n",
              "    .dataframe tbody tr th:only-of-type {\n",
              "        vertical-align: middle;\n",
              "    }\n",
              "\n",
              "    .dataframe tbody tr th {\n",
              "        vertical-align: top;\n",
              "    }\n",
              "\n",
              "    .dataframe thead th {\n",
              "        text-align: right;\n",
              "    }\n",
              "</style>\n",
              "<table border=\"1\" class=\"dataframe\">\n",
              "  <thead>\n",
              "    <tr style=\"text-align: right;\">\n",
              "      <th></th>\n",
              "      <th>store_number</th>\n",
              "      <th>zip_code</th>\n",
              "      <th>county_number</th>\n",
              "      <th>vendor_number</th>\n",
              "      <th>item_number</th>\n",
              "      <th>pack</th>\n",
              "      <th>bottle_volume_ml</th>\n",
              "      <th>state_bottle_cost</th>\n",
              "      <th>state_bottle_retail</th>\n",
              "      <th>bottles_sold</th>\n",
              "      <th>sale_dollars</th>\n",
              "    </tr>\n",
              "  </thead>\n",
              "  <tbody>\n",
              "    <tr>\n",
              "      <th>count</th>\n",
              "      <td>17926603.00</td>\n",
              "      <td>17926603.00</td>\n",
              "      <td>17926603.00</td>\n",
              "      <td>17926603.00</td>\n",
              "      <td>17926603.00</td>\n",
              "      <td>17926603.00</td>\n",
              "      <td>17926603.00</td>\n",
              "      <td>17926593.00</td>\n",
              "      <td>17926593.00</td>\n",
              "      <td>17926603.00</td>\n",
              "      <td>17926593.00</td>\n",
              "    </tr>\n",
              "    <tr>\n",
              "      <th>mean</th>\n",
              "      <td>3655.67</td>\n",
              "      <td>51010.31</td>\n",
              "      <td>48.04</td>\n",
              "      <td>259.03</td>\n",
              "      <td>46622.02</td>\n",
              "      <td>12.29</td>\n",
              "      <td>917.88</td>\n",
              "      <td>9.62</td>\n",
              "      <td>14.93</td>\n",
              "      <td>10.21</td>\n",
              "      <td>133.35</td>\n",
              "    </tr>\n",
              "    <tr>\n",
              "      <th>std</th>\n",
              "      <td>1001.58</td>\n",
              "      <td>3779.49</td>\n",
              "      <td>101.98</td>\n",
              "      <td>139.92</td>\n",
              "      <td>56890.78</td>\n",
              "      <td>7.62</td>\n",
              "      <td>675.68</td>\n",
              "      <td>10.45</td>\n",
              "      <td>15.74</td>\n",
              "      <td>27.17</td>\n",
              "      <td>456.02</td>\n",
              "    </tr>\n",
              "    <tr>\n",
              "      <th>min</th>\n",
              "      <td>2106.00</td>\n",
              "      <td>-999.00</td>\n",
              "      <td>-999.00</td>\n",
              "      <td>-999.00</td>\n",
              "      <td>-999.00</td>\n",
              "      <td>1.00</td>\n",
              "      <td>0.00</td>\n",
              "      <td>0.00</td>\n",
              "      <td>0.00</td>\n",
              "      <td>0.00</td>\n",
              "      <td>0.00</td>\n",
              "    </tr>\n",
              "    <tr>\n",
              "      <th>25%</th>\n",
              "      <td>2612.00</td>\n",
              "      <td>50315.00</td>\n",
              "      <td>31.00</td>\n",
              "      <td>115.00</td>\n",
              "      <td>27025.00</td>\n",
              "      <td>6.00</td>\n",
              "      <td>750.00</td>\n",
              "      <td>5.50</td>\n",
              "      <td>8.25</td>\n",
              "      <td>2.00</td>\n",
              "      <td>31.41</td>\n",
              "    </tr>\n",
              "    <tr>\n",
              "      <th>50%</th>\n",
              "      <td>3756.00</td>\n",
              "      <td>51054.00</td>\n",
              "      <td>61.00</td>\n",
              "      <td>260.00</td>\n",
              "      <td>38177.00</td>\n",
              "      <td>12.00</td>\n",
              "      <td>750.00</td>\n",
              "      <td>8.07</td>\n",
              "      <td>12.29</td>\n",
              "      <td>6.00</td>\n",
              "      <td>70.56</td>\n",
              "    </tr>\n",
              "    <tr>\n",
              "      <th>75%</th>\n",
              "      <td>4452.00</td>\n",
              "      <td>52302.00</td>\n",
              "      <td>77.00</td>\n",
              "      <td>380.00</td>\n",
              "      <td>64676.00</td>\n",
              "      <td>12.00</td>\n",
              "      <td>1000.00</td>\n",
              "      <td>11.99</td>\n",
              "      <td>17.99</td>\n",
              "      <td>12.00</td>\n",
              "      <td>137.16</td>\n",
              "    </tr>\n",
              "    <tr>\n",
              "      <th>max</th>\n",
              "      <td>9938.00</td>\n",
              "      <td>80904.00</td>\n",
              "      <td>99.00</td>\n",
              "      <td>987.00</td>\n",
              "      <td>999449.00</td>\n",
              "      <td>336.00</td>\n",
              "      <td>378000.00</td>\n",
              "      <td>7680.00</td>\n",
              "      <td>11520.00</td>\n",
              "      <td>15000.00</td>\n",
              "      <td>279557.28</td>\n",
              "    </tr>\n",
              "  </tbody>\n",
              "</table>\n",
              "</div>"
            ],
            "text/plain": [
              "      store_number     zip_code  ... bottles_sold sale_dollars\n",
              "count  17926603.00  17926603.00  ...  17926603.00  17926593.00\n",
              "mean       3655.67     51010.31  ...        10.21       133.35\n",
              "std        1001.58      3779.49  ...        27.17       456.02\n",
              "min        2106.00      -999.00  ...         0.00         0.00\n",
              "25%        2612.00     50315.00  ...         2.00        31.41\n",
              "50%        3756.00     51054.00  ...         6.00        70.56\n",
              "75%        4452.00     52302.00  ...        12.00       137.16\n",
              "max        9938.00     80904.00  ...     15000.00    279557.28\n",
              "\n",
              "[8 rows x 11 columns]"
            ]
          },
          "metadata": {
            "tags": []
          },
          "execution_count": 17
        }
      ]
    },
    {
      "cell_type": "code",
      "metadata": {
        "id": "1DWTTxBQ_v24",
        "colab_type": "code",
        "colab": {
          "base_uri": "https://localhost:8080/",
          "height": 194
        },
        "outputId": "8f53f38b-c9b2-4eb0-8fce-48de750d5cc7"
      },
      "source": [
        "categorical = [\n",
        "               'store_number',\n",
        "               'address',\n",
        "               'city','zip_code',\n",
        "               'store_location',\n",
        "               'county_number',\n",
        "               'category',\n",
        "               'vendor_number',\n",
        "               'item_number']\n",
        "all_items_df[categorical].nunique(axis=0)"
      ],
      "execution_count": 18,
      "outputs": [
        {
          "output_type": "execute_result",
          "data": {
            "text/plain": [
              "store_number      2320\n",
              "address           3577\n",
              "city               831\n",
              "zip_code           486\n",
              "store_location    1868\n",
              "county_number      100\n",
              "category           200\n",
              "vendor_number      332\n",
              "item_number       9034\n",
              "dtype: int64"
            ]
          },
          "metadata": {
            "tags": []
          },
          "execution_count": 18
        }
      ]
    },
    {
      "cell_type": "markdown",
      "metadata": {
        "id": "oeM8mMbhAtJk",
        "colab_type": "text"
      },
      "source": [
        "1. All columns except of pack contain zero values - thats pretty strange, suspect the errors in data here.\n",
        "2. All columns except of pack contains huge outliers - the max value more than two orders of magnitude larger than 75% percentile.\n",
        "3. For the most values in the dataset mean is much grater than median."
      ]
    },
    {
      "cell_type": "markdown",
      "metadata": {
        "id": "U4PQnfwgBrNz",
        "colab_type": "text"
      },
      "source": [
        "#3. Suggestion about the valuable information that can be presented for business:\n",
        "1. Market analysis - sales trend, seasonal decomposition for demand planning, split by cities / counties, sales predictions (Holt-Winters, ARIMA, etc.)\n",
        "2. Existing prices on the market for items, categories, trends and dynamics over time.\n",
        "3. If to add information about population in the cities - average alcohol consumption for person, cities where demand is higher than proposal (city demand - avg state demand)\n",
        "4. Competitors analysis - items range for every / most trending vendors, popular items which are not presented in the market, vendor price segment.\n",
        "5. Cities with low competition - where only few vendors presented (better to match with population info)\n",
        "6. Trending items by volumes over time.\n",
        "7. Categorical and vendor marginality"
      ]
    },
    {
      "cell_type": "markdown",
      "metadata": {
        "id": "1j6gvpig_-cC",
        "colab_type": "text"
      },
      "source": [
        "# 4. Cleaning up the dataset"
      ]
    },
    {
      "cell_type": "markdown",
      "metadata": {
        "id": "km6lThj0HrI4",
        "colab_type": "text"
      },
      "source": [
        "Sale_dollars column should be the product of state_bottle_retail and bottles_sold columns."
      ]
    },
    {
      "cell_type": "code",
      "metadata": {
        "id": "C36WZDcN_4MV",
        "colab_type": "code",
        "colab": {
          "base_uri": "https://localhost:8080/",
          "height": 34
        },
        "outputId": "6bc90b05-e351-4c69-92b4-b6e3149775d5"
      },
      "source": [
        "all_items_df['synth_sales'] = all_items_df['state_bottle_retail'] * all_items_df['bottles_sold']\n",
        "print(np.allclose(all_items_df['synth_sales'], all_items_df['sale_dollars'], atol=0.01))"
      ],
      "execution_count": 19,
      "outputs": [
        {
          "output_type": "stream",
          "text": [
            "False\n"
          ],
          "name": "stdout"
        }
      ]
    },
    {
      "cell_type": "markdown",
      "metadata": {
        "id": "xYvHb4pTBI-u",
        "colab_type": "text"
      },
      "source": [
        "Based on evaluation the data in following columns are not similar and there is no way to detect what data are accurate. All inconsistent row should be dropped from the dataset to guaranty the result accuracy. Let's check the q-ty of rows we plan to drop:"
      ]
    },
    {
      "cell_type": "code",
      "metadata": {
        "id": "jRWFpf76_33w",
        "colab_type": "code",
        "colab": {
          "base_uri": "https://localhost:8080/",
          "height": 34
        },
        "outputId": "c29f3e8e-4e8c-4cec-8b65-0779cfe8bc65"
      },
      "source": [
        "# not changing the dataset\n",
        "all_items_df.query('(sale_dollars - synth_sales) > 0.01 or (sale_dollars - synth_sales) < -0.01', inplace=False).shape"
      ],
      "execution_count": 20,
      "outputs": [
        {
          "output_type": "execute_result",
          "data": {
            "text/plain": [
              "(820998, 16)"
            ]
          },
          "metadata": {
            "tags": []
          },
          "execution_count": 20
        }
      ]
    },
    {
      "cell_type": "code",
      "metadata": {
        "id": "rwPCrz86IFIi",
        "colab_type": "code",
        "colab": {
          "base_uri": "https://localhost:8080/",
          "height": 414
        },
        "outputId": "06008d6d-dbbe-487a-e2b1-53f064c96f94"
      },
      "source": [
        "# taking a quick look for the differences\n",
        "all_items_df.query('(sale_dollars - synth_sales) > 0.01 or (sale_dollars - synth_sales) < -0.01', inplace=False).head()"
      ],
      "execution_count": 21,
      "outputs": [
        {
          "output_type": "execute_result",
          "data": {
            "text/html": [
              "<div>\n",
              "<style scoped>\n",
              "    .dataframe tbody tr th:only-of-type {\n",
              "        vertical-align: middle;\n",
              "    }\n",
              "\n",
              "    .dataframe tbody tr th {\n",
              "        vertical-align: top;\n",
              "    }\n",
              "\n",
              "    .dataframe thead th {\n",
              "        text-align: right;\n",
              "    }\n",
              "</style>\n",
              "<table border=\"1\" class=\"dataframe\">\n",
              "  <thead>\n",
              "    <tr style=\"text-align: right;\">\n",
              "      <th></th>\n",
              "      <th>store_number</th>\n",
              "      <th>address</th>\n",
              "      <th>city</th>\n",
              "      <th>zip_code</th>\n",
              "      <th>store_location</th>\n",
              "      <th>county_number</th>\n",
              "      <th>category</th>\n",
              "      <th>vendor_number</th>\n",
              "      <th>item_number</th>\n",
              "      <th>pack</th>\n",
              "      <th>bottle_volume_ml</th>\n",
              "      <th>state_bottle_cost</th>\n",
              "      <th>state_bottle_retail</th>\n",
              "      <th>bottles_sold</th>\n",
              "      <th>sale_dollars</th>\n",
              "      <th>synth_sales</th>\n",
              "    </tr>\n",
              "    <tr>\n",
              "      <th>date</th>\n",
              "      <th></th>\n",
              "      <th></th>\n",
              "      <th></th>\n",
              "      <th></th>\n",
              "      <th></th>\n",
              "      <th></th>\n",
              "      <th></th>\n",
              "      <th></th>\n",
              "      <th></th>\n",
              "      <th></th>\n",
              "      <th></th>\n",
              "      <th></th>\n",
              "      <th></th>\n",
              "      <th></th>\n",
              "      <th></th>\n",
              "      <th></th>\n",
              "    </tr>\n",
              "  </thead>\n",
              "  <tbody>\n",
              "    <tr>\n",
              "      <th>2016-08-29</th>\n",
              "      <td>2573</td>\n",
              "      <td>2400 2nd Ave</td>\n",
              "      <td>Muscatine</td>\n",
              "      <td>52761</td>\n",
              "      <td>POINT (-91.035138 41.451349)</td>\n",
              "      <td>70</td>\n",
              "      <td>1070000</td>\n",
              "      <td>434</td>\n",
              "      <td>63522</td>\n",
              "      <td>6</td>\n",
              "      <td>800</td>\n",
              "      <td>3.55</td>\n",
              "      <td>5.330000</td>\n",
              "      <td>2</td>\n",
              "      <td>31.98</td>\n",
              "      <td>10.660000</td>\n",
              "    </tr>\n",
              "    <tr>\n",
              "      <th>2016-08-31</th>\n",
              "      <td>4452</td>\n",
              "      <td>2825 Gordon Dr</td>\n",
              "      <td>Sioux City</td>\n",
              "      <td>51105</td>\n",
              "      <td>POINT (-96.372014 42.489632)</td>\n",
              "      <td>97</td>\n",
              "      <td>1081000</td>\n",
              "      <td>421</td>\n",
              "      <td>64870</td>\n",
              "      <td>48</td>\n",
              "      <td>100</td>\n",
              "      <td>0.89</td>\n",
              "      <td>1.340000</td>\n",
              "      <td>3</td>\n",
              "      <td>64.32</td>\n",
              "      <td>4.020000</td>\n",
              "    </tr>\n",
              "    <tr>\n",
              "      <th>2016-08-31</th>\n",
              "      <td>5238</td>\n",
              "      <td>1923, 5th  Ave  S</td>\n",
              "      <td>Fort Dodge</td>\n",
              "      <td>50501</td>\n",
              "      <td>POINT (-94.170859 42.501169)</td>\n",
              "      <td>94</td>\n",
              "      <td>1070000</td>\n",
              "      <td>395</td>\n",
              "      <td>58835</td>\n",
              "      <td>6</td>\n",
              "      <td>800</td>\n",
              "      <td>4.62</td>\n",
              "      <td>6.930000</td>\n",
              "      <td>3</td>\n",
              "      <td>6.93</td>\n",
              "      <td>20.789999</td>\n",
              "    </tr>\n",
              "    <tr>\n",
              "      <th>2016-10-13</th>\n",
              "      <td>2190</td>\n",
              "      <td>1460 2ND AVE</td>\n",
              "      <td>Des Moines</td>\n",
              "      <td>50314</td>\n",
              "      <td>POINT (-93.619787 41.60566)</td>\n",
              "      <td>77</td>\n",
              "      <td>NO CATEGORY</td>\n",
              "      <td>420</td>\n",
              "      <td>561</td>\n",
              "      <td>6</td>\n",
              "      <td>850</td>\n",
              "      <td>26.49</td>\n",
              "      <td>39.740002</td>\n",
              "      <td>6</td>\n",
              "      <td>233.82</td>\n",
              "      <td>238.440002</td>\n",
              "    </tr>\n",
              "    <tr>\n",
              "      <th>2016-11-08</th>\n",
              "      <td>3650</td>\n",
              "      <td>118 South Main St.</td>\n",
              "      <td>Holstein</td>\n",
              "      <td>51025</td>\n",
              "      <td>POINT (-95.544794 42.488704)</td>\n",
              "      <td>47</td>\n",
              "      <td>NO CATEGORY</td>\n",
              "      <td>420</td>\n",
              "      <td>100065</td>\n",
              "      <td>6</td>\n",
              "      <td>800</td>\n",
              "      <td>26.49</td>\n",
              "      <td>39.740002</td>\n",
              "      <td>1</td>\n",
              "      <td>38.96</td>\n",
              "      <td>39.740002</td>\n",
              "    </tr>\n",
              "  </tbody>\n",
              "</table>\n",
              "</div>"
            ],
            "text/plain": [
              "            store_number             address  ... sale_dollars  synth_sales\n",
              "date                                          ...                          \n",
              "2016-08-29          2573        2400 2nd Ave  ...        31.98    10.660000\n",
              "2016-08-31          4452      2825 Gordon Dr  ...        64.32     4.020000\n",
              "2016-08-31          5238   1923, 5th  Ave  S  ...         6.93    20.789999\n",
              "2016-10-13          2190        1460 2ND AVE  ...       233.82   238.440002\n",
              "2016-11-08          3650  118 South Main St.  ...        38.96    39.740002\n",
              "\n",
              "[5 rows x 16 columns]"
            ]
          },
          "metadata": {
            "tags": []
          },
          "execution_count": 21
        }
      ]
    },
    {
      "cell_type": "code",
      "metadata": {
        "id": "yrzqHrC6_3nA",
        "colab_type": "code",
        "colab": {}
      },
      "source": [
        "# filtering the rows of the dataset inplace\n",
        "all_items_df.query('(sale_dollars - synth_sales) < 0.01 and (sale_dollars - synth_sales) > -0.01', inplace=True)"
      ],
      "execution_count": 0,
      "outputs": []
    },
    {
      "cell_type": "code",
      "metadata": {
        "id": "lFgCYdD__3Ve",
        "colab_type": "code",
        "colab": {}
      },
      "source": [
        "# filtering the rows where sales equal to 0\n",
        "all_items_df.query('sale_dollars > 0', inplace=True)"
      ],
      "execution_count": 0,
      "outputs": []
    },
    {
      "cell_type": "code",
      "metadata": {
        "id": "6Hq14feqLGvq",
        "colab_type": "code",
        "colab": {}
      },
      "source": [
        "# drop the unnecessary columns\n",
        "all_items_df.drop('synth_sales', axis=1, inplace=True)"
      ],
      "execution_count": 0,
      "outputs": []
    },
    {
      "cell_type": "code",
      "metadata": {
        "id": "7WUaaoCMtLBE",
        "colab_type": "code",
        "colab": {}
      },
      "source": [
        "all_items_df.dropna(subset=['state_bottle_retail', 'bottles_sold', 'sale_dollars'], inplace=True)"
      ],
      "execution_count": 0,
      "outputs": []
    },
    {
      "cell_type": "code",
      "metadata": {
        "id": "4G_4H0Q9x32l",
        "colab_type": "code",
        "colab": {}
      },
      "source": [
        "quant_columns = ['pack',\n",
        "                 'bottle_volume_ml',\n",
        "                 'state_bottle_cost',\n",
        "                 'state_bottle_retail',\n",
        "                 'bottles_sold',\n",
        "                 'sale_dollars',\n",
        "                 ]"
      ],
      "execution_count": 0,
      "outputs": []
    },
    {
      "cell_type": "code",
      "metadata": {
        "id": "s1Jwavbf31pB",
        "colab_type": "code",
        "outputId": "2cfc0826-971c-4130-aa3f-7204c3c4cdc7",
        "colab": {
          "base_uri": "https://localhost:8080/",
          "height": 287
        }
      },
      "source": [
        "all_items_df[quant_columns].describe().apply(format_columns)"
      ],
      "execution_count": 27,
      "outputs": [
        {
          "output_type": "execute_result",
          "data": {
            "text/html": [
              "<div>\n",
              "<style scoped>\n",
              "    .dataframe tbody tr th:only-of-type {\n",
              "        vertical-align: middle;\n",
              "    }\n",
              "\n",
              "    .dataframe tbody tr th {\n",
              "        vertical-align: top;\n",
              "    }\n",
              "\n",
              "    .dataframe thead th {\n",
              "        text-align: right;\n",
              "    }\n",
              "</style>\n",
              "<table border=\"1\" class=\"dataframe\">\n",
              "  <thead>\n",
              "    <tr style=\"text-align: right;\">\n",
              "      <th></th>\n",
              "      <th>pack</th>\n",
              "      <th>bottle_volume_ml</th>\n",
              "      <th>state_bottle_cost</th>\n",
              "      <th>state_bottle_retail</th>\n",
              "      <th>bottles_sold</th>\n",
              "      <th>sale_dollars</th>\n",
              "    </tr>\n",
              "  </thead>\n",
              "  <tbody>\n",
              "    <tr>\n",
              "      <th>count</th>\n",
              "      <td>17102510.00</td>\n",
              "      <td>17102510.00</td>\n",
              "      <td>17102510.00</td>\n",
              "      <td>17102510.00</td>\n",
              "      <td>17102510.00</td>\n",
              "      <td>17102510.00</td>\n",
              "    </tr>\n",
              "    <tr>\n",
              "      <th>mean</th>\n",
              "      <td>12.32</td>\n",
              "      <td>914.40</td>\n",
              "      <td>9.53</td>\n",
              "      <td>14.71</td>\n",
              "      <td>10.21</td>\n",
              "      <td>131.56</td>\n",
              "    </tr>\n",
              "    <tr>\n",
              "      <th>std</th>\n",
              "      <td>7.63</td>\n",
              "      <td>679.71</td>\n",
              "      <td>10.47</td>\n",
              "      <td>15.80</td>\n",
              "      <td>26.19</td>\n",
              "      <td>437.81</td>\n",
              "    </tr>\n",
              "    <tr>\n",
              "      <th>min</th>\n",
              "      <td>1.00</td>\n",
              "      <td>0.00</td>\n",
              "      <td>0.19</td>\n",
              "      <td>0.29</td>\n",
              "      <td>1.00</td>\n",
              "      <td>1.34</td>\n",
              "    </tr>\n",
              "    <tr>\n",
              "      <th>25%</th>\n",
              "      <td>6.00</td>\n",
              "      <td>750.00</td>\n",
              "      <td>5.48</td>\n",
              "      <td>8.22</td>\n",
              "      <td>2.00</td>\n",
              "      <td>31.00</td>\n",
              "    </tr>\n",
              "    <tr>\n",
              "      <th>50%</th>\n",
              "      <td>12.00</td>\n",
              "      <td>750.00</td>\n",
              "      <td>8.00</td>\n",
              "      <td>12.00</td>\n",
              "      <td>6.00</td>\n",
              "      <td>70.56</td>\n",
              "    </tr>\n",
              "    <tr>\n",
              "      <th>75%</th>\n",
              "      <td>12.00</td>\n",
              "      <td>1000.00</td>\n",
              "      <td>11.78</td>\n",
              "      <td>17.67</td>\n",
              "      <td>12.00</td>\n",
              "      <td>135.60</td>\n",
              "    </tr>\n",
              "    <tr>\n",
              "      <th>max</th>\n",
              "      <td>336.00</td>\n",
              "      <td>378000.00</td>\n",
              "      <td>7680.00</td>\n",
              "      <td>11520.00</td>\n",
              "      <td>11952.00</td>\n",
              "      <td>279557.28</td>\n",
              "    </tr>\n",
              "  </tbody>\n",
              "</table>\n",
              "</div>"
            ],
            "text/plain": [
              "              pack bottle_volume_ml  ... bottles_sold sale_dollars\n",
              "count  17102510.00      17102510.00  ...  17102510.00  17102510.00\n",
              "mean         12.32           914.40  ...        10.21       131.56\n",
              "std           7.63           679.71  ...        26.19       437.81\n",
              "min           1.00             0.00  ...         1.00         1.34\n",
              "25%           6.00           750.00  ...         2.00        31.00\n",
              "50%          12.00           750.00  ...         6.00        70.56\n",
              "75%          12.00          1000.00  ...        12.00       135.60\n",
              "max         336.00        378000.00  ...     11952.00    279557.28\n",
              "\n",
              "[8 rows x 6 columns]"
            ]
          },
          "metadata": {
            "tags": []
          },
          "execution_count": 27
        }
      ]
    },
    {
      "cell_type": "markdown",
      "metadata": {
        "id": "1kYkZg5CS2W_",
        "colab_type": "text"
      },
      "source": [
        "### Investigating outliers\n",
        "All columns numeric columns here have huge outliers - the difference between maximum and 3 percenile reall great. Lets look what it is and investigate impact."
      ]
    },
    {
      "cell_type": "code",
      "metadata": {
        "id": "KABsRHD5XjzZ",
        "colab_type": "code",
        "colab": {
          "base_uri": "https://localhost:8080/",
          "height": 334
        },
        "outputId": "8561a101-454c-40e4-ee85-954c1436eb97"
      },
      "source": [
        "fig = plt.figure(figsize=(20, 5))\n",
        "sns.boxplot(x='variable', y='value', data=pd.melt(all_items_df[quant_columns]))\n",
        "fig.show()"
      ],
      "execution_count": 28,
      "outputs": [
        {
          "output_type": "display_data",
          "data": {
            "image/png": "[encoded data removed]",
            "text/plain": [
              "<Figure size 1440x360 with 1 Axes>"
            ]
          },
          "metadata": {
            "tags": []
          }
        }
      ]
    },
    {
      "cell_type": "code",
      "metadata": {
        "id": "VNzvLwHT6J5X",
        "colab_type": "code",
        "colab": {}
      },
      "source": [
        "# copying the main df to leave the original data unaffected\n",
        "df = all_items_df.copy()"
      ],
      "execution_count": 0,
      "outputs": []
    },
    {
      "cell_type": "code",
      "metadata": {
        "id": "3XrJydZ46Tto",
        "colab_type": "code",
        "colab": {}
      },
      "source": [
        "# calculating the IQR for different columns\n",
        "# sale_dollars\n",
        "sales_q1 = all_items_df['sale_dollars'].quantile(0.25)\n",
        "sales_q3 = all_items_df['sale_dollars'].quantile(0.75)\n",
        "sales_iqr = sales_q3 - sales_q1\n",
        "\n",
        "# state_bottle_retail\n",
        "retail_q1 = all_items_df['state_bottle_retail'].quantile(0.25)\n",
        "retail_q3 = all_items_df['state_bottle_retail'].quantile(0.75)\n",
        "retail_iqr = retail_q3 - retail_q1\n",
        "\n",
        "# bottles_sold\n",
        "bottles_q1 = all_items_df['bottles_sold'].quantile(0.25)\n",
        "bottles_q3 = all_items_df['bottles_sold'].quantile(0.75)\n",
        "bottles_iqr = bottles_q3 - bottles_q1"
      ],
      "execution_count": 0,
      "outputs": []
    },
    {
      "cell_type": "code",
      "metadata": {
        "id": "sBqSt-J2-EBQ",
        "colab_type": "code",
        "outputId": "1aa049fd-ddb5-4913-ee8d-65e6715a2d94",
        "colab": {
          "base_uri": "https://localhost:8080/",
          "height": 34
        }
      },
      "source": [
        "df.query('@sales_q1 - 1.5* @sales_iqr >= sale_dollars or sale_dollars >= @sales_q3 + 1.5 * @sales_iqr', inplace=False).shape"
      ],
      "execution_count": 31,
      "outputs": [
        {
          "output_type": "execute_result",
          "data": {
            "text/plain": [
              "(1068106, 15)"
            ]
          },
          "metadata": {
            "tags": []
          },
          "execution_count": 31
        }
      ]
    },
    {
      "cell_type": "code",
      "metadata": {
        "id": "7PSmpmSJ9YZO",
        "colab_type": "code",
        "colab": {
          "base_uri": "https://localhost:8080/",
          "height": 397
        },
        "outputId": "8810ca22-4da1-40c6-b5cd-94ef9b591130"
      },
      "source": [
        "df.query('@sales_q1 - 1.5* @sales_iqr >= sale_dollars or sale_dollars >= @sales_q3 + 1.5 * @sales_iqr', inplace=False).tail()"
      ],
      "execution_count": 32,
      "outputs": [
        {
          "output_type": "execute_result",
          "data": {
            "text/html": [
              "<div>\n",
              "<style scoped>\n",
              "    .dataframe tbody tr th:only-of-type {\n",
              "        vertical-align: middle;\n",
              "    }\n",
              "\n",
              "    .dataframe tbody tr th {\n",
              "        vertical-align: top;\n",
              "    }\n",
              "\n",
              "    .dataframe thead th {\n",
              "        text-align: right;\n",
              "    }\n",
              "</style>\n",
              "<table border=\"1\" class=\"dataframe\">\n",
              "  <thead>\n",
              "    <tr style=\"text-align: right;\">\n",
              "      <th></th>\n",
              "      <th>store_number</th>\n",
              "      <th>address</th>\n",
              "      <th>city</th>\n",
              "      <th>zip_code</th>\n",
              "      <th>store_location</th>\n",
              "      <th>county_number</th>\n",
              "      <th>category</th>\n",
              "      <th>vendor_number</th>\n",
              "      <th>item_number</th>\n",
              "      <th>pack</th>\n",
              "      <th>bottle_volume_ml</th>\n",
              "      <th>state_bottle_cost</th>\n",
              "      <th>state_bottle_retail</th>\n",
              "      <th>bottles_sold</th>\n",
              "      <th>sale_dollars</th>\n",
              "    </tr>\n",
              "    <tr>\n",
              "      <th>date</th>\n",
              "      <th></th>\n",
              "      <th></th>\n",
              "      <th></th>\n",
              "      <th></th>\n",
              "      <th></th>\n",
              "      <th></th>\n",
              "      <th></th>\n",
              "      <th></th>\n",
              "      <th></th>\n",
              "      <th></th>\n",
              "      <th></th>\n",
              "      <th></th>\n",
              "      <th></th>\n",
              "      <th></th>\n",
              "      <th></th>\n",
              "    </tr>\n",
              "  </thead>\n",
              "  <tbody>\n",
              "    <tr>\n",
              "      <th>2018-08-06</th>\n",
              "      <td>5195</td>\n",
              "      <td>1928, Sherwood Dr</td>\n",
              "      <td>Council Bluffs</td>\n",
              "      <td>51530</td>\n",
              "      <td>POINT (-95.811475 41.278661)</td>\n",
              "      <td>78</td>\n",
              "      <td>1022100</td>\n",
              "      <td>395</td>\n",
              "      <td>89191</td>\n",
              "      <td>12</td>\n",
              "      <td>500</td>\n",
              "      <td>11.50</td>\n",
              "      <td>17.25</td>\n",
              "      <td>60</td>\n",
              "      <td>1035.00</td>\n",
              "    </tr>\n",
              "    <tr>\n",
              "      <th>2017-11-03</th>\n",
              "      <td>5459</td>\n",
              "      <td>204 6th St</td>\n",
              "      <td>Corning</td>\n",
              "      <td>50841</td>\n",
              "      <td>LOCATION UMKNOWN</td>\n",
              "      <td>2</td>\n",
              "      <td>1022100</td>\n",
              "      <td>395</td>\n",
              "      <td>89191</td>\n",
              "      <td>12</td>\n",
              "      <td>500</td>\n",
              "      <td>11.50</td>\n",
              "      <td>17.25</td>\n",
              "      <td>24</td>\n",
              "      <td>414.00</td>\n",
              "    </tr>\n",
              "    <tr>\n",
              "      <th>2017-11-14</th>\n",
              "      <td>5028</td>\n",
              "      <td>1100, E 5th St</td>\n",
              "      <td>Storm Lake</td>\n",
              "      <td>50588</td>\n",
              "      <td>POINT (-95.186938 42.644563)</td>\n",
              "      <td>11</td>\n",
              "      <td>1022100</td>\n",
              "      <td>395</td>\n",
              "      <td>89191</td>\n",
              "      <td>12</td>\n",
              "      <td>500</td>\n",
              "      <td>11.50</td>\n",
              "      <td>17.25</td>\n",
              "      <td>24</td>\n",
              "      <td>414.00</td>\n",
              "    </tr>\n",
              "    <tr>\n",
              "      <th>2015-09-08</th>\n",
              "      <td>2607</td>\n",
              "      <td>520 SO FREMONT</td>\n",
              "      <td>SHENANDOAH</td>\n",
              "      <td>51601</td>\n",
              "      <td>POINT (-95.385111 40.761736)</td>\n",
              "      <td>73</td>\n",
              "      <td>1081200</td>\n",
              "      <td>305</td>\n",
              "      <td>73051</td>\n",
              "      <td>12</td>\n",
              "      <td>500</td>\n",
              "      <td>8.87</td>\n",
              "      <td>13.31</td>\n",
              "      <td>36</td>\n",
              "      <td>479.16</td>\n",
              "    </tr>\n",
              "    <tr>\n",
              "      <th>2012-12-21</th>\n",
              "      <td>2643</td>\n",
              "      <td>2126 KIMBALL AVE</td>\n",
              "      <td>WATERLOO</td>\n",
              "      <td>50701</td>\n",
              "      <td>LOCATION UMKNOWN</td>\n",
              "      <td>7</td>\n",
              "      <td>1081200</td>\n",
              "      <td>305</td>\n",
              "      <td>73051</td>\n",
              "      <td>12</td>\n",
              "      <td>500</td>\n",
              "      <td>8.87</td>\n",
              "      <td>13.31</td>\n",
              "      <td>24</td>\n",
              "      <td>319.44</td>\n",
              "    </tr>\n",
              "  </tbody>\n",
              "</table>\n",
              "</div>"
            ],
            "text/plain": [
              "            store_number            address  ... bottles_sold  sale_dollars\n",
              "date                                         ...                           \n",
              "2018-08-06          5195  1928, Sherwood Dr  ...           60       1035.00\n",
              "2017-11-03          5459         204 6th St  ...           24        414.00\n",
              "2017-11-14          5028     1100, E 5th St  ...           24        414.00\n",
              "2015-09-08          2607     520 SO FREMONT  ...           36        479.16\n",
              "2012-12-21          2643   2126 KIMBALL AVE  ...           24        319.44\n",
              "\n",
              "[5 rows x 15 columns]"
            ]
          },
          "metadata": {
            "tags": []
          },
          "execution_count": 32
        }
      ]
    },
    {
      "cell_type": "code",
      "metadata": {
        "id": "FLdwBEYsch55",
        "colab_type": "code",
        "colab": {
          "base_uri": "https://localhost:8080/",
          "height": 34
        },
        "outputId": "712517bf-8f46-4244-b03b-5273cefa5d88"
      },
      "source": [
        "df.query('@bottles_q1 - 1.5* @bottles_iqr >= bottles_sold or bottles_sold >= @bottles_q3 + 1.5 * @bottles_iqr', inplace=False).shape"
      ],
      "execution_count": 33,
      "outputs": [
        {
          "output_type": "execute_result",
          "data": {
            "text/plain": [
              "(714056, 15)"
            ]
          },
          "metadata": {
            "tags": []
          },
          "execution_count": 33
        }
      ]
    },
    {
      "cell_type": "code",
      "metadata": {
        "id": "8d-vvFg2dxxj",
        "colab_type": "code",
        "colab": {
          "base_uri": "https://localhost:8080/",
          "height": 414
        },
        "outputId": "1471dcf8-5cf3-441a-8f9c-c6086c827691"
      },
      "source": [
        "df.query('@bottles_q1 - 1.5* @bottles_iqr >= bottles_sold or bottles_sold >= @bottles_q3 + 1.5 * @bottles_iqr', inplace=False).head()"
      ],
      "execution_count": 34,
      "outputs": [
        {
          "output_type": "execute_result",
          "data": {
            "text/html": [
              "<div>\n",
              "<style scoped>\n",
              "    .dataframe tbody tr th:only-of-type {\n",
              "        vertical-align: middle;\n",
              "    }\n",
              "\n",
              "    .dataframe tbody tr th {\n",
              "        vertical-align: top;\n",
              "    }\n",
              "\n",
              "    .dataframe thead th {\n",
              "        text-align: right;\n",
              "    }\n",
              "</style>\n",
              "<table border=\"1\" class=\"dataframe\">\n",
              "  <thead>\n",
              "    <tr style=\"text-align: right;\">\n",
              "      <th></th>\n",
              "      <th>store_number</th>\n",
              "      <th>address</th>\n",
              "      <th>city</th>\n",
              "      <th>zip_code</th>\n",
              "      <th>store_location</th>\n",
              "      <th>county_number</th>\n",
              "      <th>category</th>\n",
              "      <th>vendor_number</th>\n",
              "      <th>item_number</th>\n",
              "      <th>pack</th>\n",
              "      <th>bottle_volume_ml</th>\n",
              "      <th>state_bottle_cost</th>\n",
              "      <th>state_bottle_retail</th>\n",
              "      <th>bottles_sold</th>\n",
              "      <th>sale_dollars</th>\n",
              "    </tr>\n",
              "    <tr>\n",
              "      <th>date</th>\n",
              "      <th></th>\n",
              "      <th></th>\n",
              "      <th></th>\n",
              "      <th></th>\n",
              "      <th></th>\n",
              "      <th></th>\n",
              "      <th></th>\n",
              "      <th></th>\n",
              "      <th></th>\n",
              "      <th></th>\n",
              "      <th></th>\n",
              "      <th></th>\n",
              "      <th></th>\n",
              "      <th></th>\n",
              "      <th></th>\n",
              "    </tr>\n",
              "  </thead>\n",
              "  <tbody>\n",
              "    <tr>\n",
              "      <th>2018-05-03</th>\n",
              "      <td>2248</td>\n",
              "      <td>3500 Ingersoll Ave</td>\n",
              "      <td>Des Moines</td>\n",
              "      <td>50312</td>\n",
              "      <td>POINT (-93.664182 41.586319)</td>\n",
              "      <td>77</td>\n",
              "      <td>1031100</td>\n",
              "      <td>421</td>\n",
              "      <td>38089</td>\n",
              "      <td>48</td>\n",
              "      <td>100</td>\n",
              "      <td>0.89</td>\n",
              "      <td>1.34</td>\n",
              "      <td>48</td>\n",
              "      <td>64.32</td>\n",
              "    </tr>\n",
              "    <tr>\n",
              "      <th>2017-11-20</th>\n",
              "      <td>2536</td>\n",
              "      <td>4815 Maple Drive</td>\n",
              "      <td>Pleasant Hill</td>\n",
              "      <td>50317</td>\n",
              "      <td>POINT (-93.519187 41.598109)</td>\n",
              "      <td>77</td>\n",
              "      <td>1031100</td>\n",
              "      <td>421</td>\n",
              "      <td>38089</td>\n",
              "      <td>48</td>\n",
              "      <td>100</td>\n",
              "      <td>0.89</td>\n",
              "      <td>1.34</td>\n",
              "      <td>48</td>\n",
              "      <td>64.32</td>\n",
              "    </tr>\n",
              "    <tr>\n",
              "      <th>2016-04-19</th>\n",
              "      <td>2665</td>\n",
              "      <td>1005 E HICKMAN RD</td>\n",
              "      <td>WAUKEE</td>\n",
              "      <td>50263</td>\n",
              "      <td>POINT (-93.854477 41.615059)</td>\n",
              "      <td>25</td>\n",
              "      <td>1081600</td>\n",
              "      <td>421</td>\n",
              "      <td>64870</td>\n",
              "      <td>48</td>\n",
              "      <td>100</td>\n",
              "      <td>0.89</td>\n",
              "      <td>1.34</td>\n",
              "      <td>336</td>\n",
              "      <td>450.24</td>\n",
              "    </tr>\n",
              "    <tr>\n",
              "      <th>2015-12-22</th>\n",
              "      <td>4452</td>\n",
              "      <td>2825 GORDON DR</td>\n",
              "      <td>SIOUX CITY</td>\n",
              "      <td>51105</td>\n",
              "      <td>POINT (-96.372014 42.489632)</td>\n",
              "      <td>97</td>\n",
              "      <td>1081600</td>\n",
              "      <td>421</td>\n",
              "      <td>64870</td>\n",
              "      <td>48</td>\n",
              "      <td>100</td>\n",
              "      <td>0.89</td>\n",
              "      <td>1.34</td>\n",
              "      <td>144</td>\n",
              "      <td>192.96</td>\n",
              "    </tr>\n",
              "    <tr>\n",
              "      <th>2015-12-21</th>\n",
              "      <td>3963</td>\n",
              "      <td>1925 W BROADWAY</td>\n",
              "      <td>COUNCIL BLUFFS</td>\n",
              "      <td>51501</td>\n",
              "      <td>POINT (-95.873073 41.261866)</td>\n",
              "      <td>78</td>\n",
              "      <td>1081600</td>\n",
              "      <td>421</td>\n",
              "      <td>64870</td>\n",
              "      <td>48</td>\n",
              "      <td>100</td>\n",
              "      <td>0.89</td>\n",
              "      <td>1.34</td>\n",
              "      <td>144</td>\n",
              "      <td>192.96</td>\n",
              "    </tr>\n",
              "  </tbody>\n",
              "</table>\n",
              "</div>"
            ],
            "text/plain": [
              "            store_number             address  ... bottles_sold  sale_dollars\n",
              "date                                          ...                           \n",
              "2018-05-03          2248  3500 Ingersoll Ave  ...           48         64.32\n",
              "2017-11-20          2536    4815 Maple Drive  ...           48         64.32\n",
              "2016-04-19          2665   1005 E HICKMAN RD  ...          336        450.24\n",
              "2015-12-22          4452      2825 GORDON DR  ...          144        192.96\n",
              "2015-12-21          3963     1925 W BROADWAY  ...          144        192.96\n",
              "\n",
              "[5 rows x 15 columns]"
            ]
          },
          "metadata": {
            "tags": []
          },
          "execution_count": 34
        }
      ]
    },
    {
      "cell_type": "code",
      "metadata": {
        "id": "MsjfBAnochl1",
        "colab_type": "code",
        "colab": {
          "base_uri": "https://localhost:8080/",
          "height": 34
        },
        "outputId": "7b5c82dc-5b0f-4b93-cf5a-375f2543ffa1"
      },
      "source": [
        "df.query('@retail_q1 - 1.5* @retail_iqr >= state_bottle_retail or state_bottle_retail >= @retail_q3 + 1.5 * @retail_iqr', inplace=False).shape"
      ],
      "execution_count": 35,
      "outputs": [
        {
          "output_type": "execute_result",
          "data": {
            "text/plain": [
              "(850145, 15)"
            ]
          },
          "metadata": {
            "tags": []
          },
          "execution_count": 35
        }
      ]
    },
    {
      "cell_type": "code",
      "metadata": {
        "id": "fbbxcGJqdWy8",
        "colab_type": "code",
        "colab": {
          "base_uri": "https://localhost:8080/",
          "height": 414
        },
        "outputId": "54952254-a5c5-403f-aaa0-bdb6e26a41c1"
      },
      "source": [
        "df.query('@retail_q1 - 1.5* @retail_iqr >= state_bottle_retail or state_bottle_retail >= @retail_q3 + 1.5 * @retail_iqr', inplace=False).head()"
      ],
      "execution_count": 36,
      "outputs": [
        {
          "output_type": "execute_result",
          "data": {
            "text/html": [
              "<div>\n",
              "<style scoped>\n",
              "    .dataframe tbody tr th:only-of-type {\n",
              "        vertical-align: middle;\n",
              "    }\n",
              "\n",
              "    .dataframe tbody tr th {\n",
              "        vertical-align: top;\n",
              "    }\n",
              "\n",
              "    .dataframe thead th {\n",
              "        text-align: right;\n",
              "    }\n",
              "</style>\n",
              "<table border=\"1\" class=\"dataframe\">\n",
              "  <thead>\n",
              "    <tr style=\"text-align: right;\">\n",
              "      <th></th>\n",
              "      <th>store_number</th>\n",
              "      <th>address</th>\n",
              "      <th>city</th>\n",
              "      <th>zip_code</th>\n",
              "      <th>store_location</th>\n",
              "      <th>county_number</th>\n",
              "      <th>category</th>\n",
              "      <th>vendor_number</th>\n",
              "      <th>item_number</th>\n",
              "      <th>pack</th>\n",
              "      <th>bottle_volume_ml</th>\n",
              "      <th>state_bottle_cost</th>\n",
              "      <th>state_bottle_retail</th>\n",
              "      <th>bottles_sold</th>\n",
              "      <th>sale_dollars</th>\n",
              "    </tr>\n",
              "    <tr>\n",
              "      <th>date</th>\n",
              "      <th></th>\n",
              "      <th></th>\n",
              "      <th></th>\n",
              "      <th></th>\n",
              "      <th></th>\n",
              "      <th></th>\n",
              "      <th></th>\n",
              "      <th></th>\n",
              "      <th></th>\n",
              "      <th></th>\n",
              "      <th></th>\n",
              "      <th></th>\n",
              "      <th></th>\n",
              "      <th></th>\n",
              "      <th></th>\n",
              "    </tr>\n",
              "  </thead>\n",
              "  <tbody>\n",
              "    <tr>\n",
              "      <th>2019-12-10</th>\n",
              "      <td>3981</td>\n",
              "      <td>255 16th St SW</td>\n",
              "      <td>Sioux Center</td>\n",
              "      <td>51250</td>\n",
              "      <td>POINT (-96.179835 43.060881)</td>\n",
              "      <td>84</td>\n",
              "      <td>1012200</td>\n",
              "      <td>260</td>\n",
              "      <td>100572</td>\n",
              "      <td>6</td>\n",
              "      <td>800</td>\n",
              "      <td>62.50</td>\n",
              "      <td>93.750000</td>\n",
              "      <td>6</td>\n",
              "      <td>562.50</td>\n",
              "    </tr>\n",
              "    <tr>\n",
              "      <th>2017-06-15</th>\n",
              "      <td>2248</td>\n",
              "      <td>3500 Ingersoll Ave</td>\n",
              "      <td>Des Moines</td>\n",
              "      <td>50312</td>\n",
              "      <td>POINT (-93.664182 41.586319)</td>\n",
              "      <td>77</td>\n",
              "      <td>1012300</td>\n",
              "      <td>420</td>\n",
              "      <td>464</td>\n",
              "      <td>6</td>\n",
              "      <td>850</td>\n",
              "      <td>23.49</td>\n",
              "      <td>35.240002</td>\n",
              "      <td>12</td>\n",
              "      <td>422.88</td>\n",
              "    </tr>\n",
              "    <tr>\n",
              "      <th>2018-12-19</th>\n",
              "      <td>4652</td>\n",
              "      <td>3107, Brady St</td>\n",
              "      <td>Davenport</td>\n",
              "      <td>52803</td>\n",
              "      <td>POINT (-90.569719 41.55216)</td>\n",
              "      <td>82</td>\n",
              "      <td>NO CATEGORY</td>\n",
              "      <td>421</td>\n",
              "      <td>100015</td>\n",
              "      <td>3</td>\n",
              "      <td>3500</td>\n",
              "      <td>30.00</td>\n",
              "      <td>45.000000</td>\n",
              "      <td>2</td>\n",
              "      <td>90.00</td>\n",
              "    </tr>\n",
              "    <tr>\n",
              "      <th>2017-11-14</th>\n",
              "      <td>2666</td>\n",
              "      <td>2510 SW State St</td>\n",
              "      <td>Ankeny</td>\n",
              "      <td>50023</td>\n",
              "      <td>POINT (-93.621824 41.705188)</td>\n",
              "      <td>77</td>\n",
              "      <td>1701100</td>\n",
              "      <td>420</td>\n",
              "      <td>1025</td>\n",
              "      <td>6</td>\n",
              "      <td>800</td>\n",
              "      <td>23.49</td>\n",
              "      <td>35.240002</td>\n",
              "      <td>90</td>\n",
              "      <td>3171.60</td>\n",
              "    </tr>\n",
              "    <tr>\n",
              "      <th>2019-12-17</th>\n",
              "      <td>5444</td>\n",
              "      <td>11 N 3rd Ave</td>\n",
              "      <td>Marshalltown</td>\n",
              "      <td>50158</td>\n",
              "      <td>POINT (-92.908013 42.050021)</td>\n",
              "      <td>64</td>\n",
              "      <td>1701100</td>\n",
              "      <td>260</td>\n",
              "      <td>100795</td>\n",
              "      <td>6</td>\n",
              "      <td>850</td>\n",
              "      <td>21.49</td>\n",
              "      <td>32.240002</td>\n",
              "      <td>3</td>\n",
              "      <td>96.72</td>\n",
              "    </tr>\n",
              "  </tbody>\n",
              "</table>\n",
              "</div>"
            ],
            "text/plain": [
              "            store_number             address  ... bottles_sold  sale_dollars\n",
              "date                                          ...                           \n",
              "2019-12-10          3981      255 16th St SW  ...            6        562.50\n",
              "2017-06-15          2248  3500 Ingersoll Ave  ...           12        422.88\n",
              "2018-12-19          4652      3107, Brady St  ...            2         90.00\n",
              "2017-11-14          2666    2510 SW State St  ...           90       3171.60\n",
              "2019-12-17          5444        11 N 3rd Ave  ...            3         96.72\n",
              "\n",
              "[5 rows x 15 columns]"
            ]
          },
          "metadata": {
            "tags": []
          },
          "execution_count": 36
        }
      ]
    },
    {
      "cell_type": "markdown",
      "metadata": {
        "id": "Z6Ye9w2YWW7p",
        "colab_type": "text"
      },
      "source": [
        "Looks like the data in the mentioned outliers is pretty consistent, also there are the huge quantity of them. Lets review the impact of removing outliers on the final dataset:"
      ]
    },
    {
      "cell_type": "markdown",
      "metadata": {
        "id": "0G41afmbagds",
        "colab_type": "text"
      },
      "source": [
        "The dataset contains a huge amount of outliers in all numeric columns which looks pretty consistent. Should the outliers be filtered or not depends on the purposes for which dataset planned to be used."
      ]
    },
    {
      "cell_type": "code",
      "metadata": {
        "id": "olqLNnEi7j0y",
        "colab_type": "code",
        "colab": {}
      },
      "source": [
        "# filtering the dataset from outliers\n",
        "df.query('@sales_q1 - 1.5* @sales_iqr <= sale_dollars <= @sales_q3 + 1.5 * @sales_iqr', inplace=True)\n",
        "df.query('@bottles_q1 - 1.5* @bottles_iqr <= bottles_sold <= @bottles_q3 + 1.5 * @bottles_iqr', inplace=True)\n",
        "df.query('@retail_q1 - 1.5* @retail_iqr <= state_bottle_retail <= @retail_q3 + 1.5 * @retail_iqr', inplace=True)"
      ],
      "execution_count": 0,
      "outputs": []
    },
    {
      "cell_type": "code",
      "metadata": {
        "id": "k9kYQEFzgeMh",
        "colab_type": "code",
        "colab": {
          "base_uri": "https://localhost:8080/",
          "height": 287
        },
        "outputId": "664864b2-84da-43f8-dce1-57f235b37b08"
      },
      "source": [
        "df.describe().apply(format_columns)"
      ],
      "execution_count": 38,
      "outputs": [
        {
          "output_type": "execute_result",
          "data": {
            "text/html": [
              "<div>\n",
              "<style scoped>\n",
              "    .dataframe tbody tr th:only-of-type {\n",
              "        vertical-align: middle;\n",
              "    }\n",
              "\n",
              "    .dataframe tbody tr th {\n",
              "        vertical-align: top;\n",
              "    }\n",
              "\n",
              "    .dataframe thead th {\n",
              "        text-align: right;\n",
              "    }\n",
              "</style>\n",
              "<table border=\"1\" class=\"dataframe\">\n",
              "  <thead>\n",
              "    <tr style=\"text-align: right;\">\n",
              "      <th></th>\n",
              "      <th>store_number</th>\n",
              "      <th>zip_code</th>\n",
              "      <th>county_number</th>\n",
              "      <th>vendor_number</th>\n",
              "      <th>item_number</th>\n",
              "      <th>pack</th>\n",
              "      <th>bottle_volume_ml</th>\n",
              "      <th>state_bottle_cost</th>\n",
              "      <th>state_bottle_retail</th>\n",
              "      <th>bottles_sold</th>\n",
              "      <th>sale_dollars</th>\n",
              "    </tr>\n",
              "  </thead>\n",
              "  <tbody>\n",
              "    <tr>\n",
              "      <th>count</th>\n",
              "      <td>15067949.00</td>\n",
              "      <td>15067949.00</td>\n",
              "      <td>15067949.00</td>\n",
              "      <td>15067949.00</td>\n",
              "      <td>15067949.00</td>\n",
              "      <td>15067949.00</td>\n",
              "      <td>15067949.00</td>\n",
              "      <td>15067949.00</td>\n",
              "      <td>15067949.00</td>\n",
              "      <td>15067949.00</td>\n",
              "      <td>15067949.00</td>\n",
              "    </tr>\n",
              "    <tr>\n",
              "      <th>mean</th>\n",
              "      <td>3659.15</td>\n",
              "      <td>51044.22</td>\n",
              "      <td>48.31</td>\n",
              "      <td>258.53</td>\n",
              "      <td>45565.59</td>\n",
              "      <td>12.26</td>\n",
              "      <td>897.32</td>\n",
              "      <td>8.52</td>\n",
              "      <td>12.82</td>\n",
              "      <td>7.08</td>\n",
              "      <td>80.95</td>\n",
              "    </tr>\n",
              "    <tr>\n",
              "      <th>std</th>\n",
              "      <td>989.56</td>\n",
              "      <td>3548.01</td>\n",
              "      <td>99.27</td>\n",
              "      <td>139.77</td>\n",
              "      <td>43759.13</td>\n",
              "      <td>6.83</td>\n",
              "      <td>466.91</td>\n",
              "      <td>4.16</td>\n",
              "      <td>6.20</td>\n",
              "      <td>5.67</td>\n",
              "      <td>64.83</td>\n",
              "    </tr>\n",
              "    <tr>\n",
              "      <th>min</th>\n",
              "      <td>2106.00</td>\n",
              "      <td>-999.00</td>\n",
              "      <td>-999.00</td>\n",
              "      <td>-999.00</td>\n",
              "      <td>-999.00</td>\n",
              "      <td>1.00</td>\n",
              "      <td>0.00</td>\n",
              "      <td>0.59</td>\n",
              "      <td>0.88</td>\n",
              "      <td>1.00</td>\n",
              "      <td>1.34</td>\n",
              "    </tr>\n",
              "    <tr>\n",
              "      <th>25%</th>\n",
              "      <td>2612.00</td>\n",
              "      <td>50315.00</td>\n",
              "      <td>31.00</td>\n",
              "      <td>115.00</td>\n",
              "      <td>28086.00</td>\n",
              "      <td>6.00</td>\n",
              "      <td>750.00</td>\n",
              "      <td>5.38</td>\n",
              "      <td>8.07</td>\n",
              "      <td>2.00</td>\n",
              "      <td>27.72</td>\n",
              "    </tr>\n",
              "    <tr>\n",
              "      <th>50%</th>\n",
              "      <td>3769.00</td>\n",
              "      <td>51058.00</td>\n",
              "      <td>60.00</td>\n",
              "      <td>260.00</td>\n",
              "      <td>39866.00</td>\n",
              "      <td>12.00</td>\n",
              "      <td>750.00</td>\n",
              "      <td>7.60</td>\n",
              "      <td>11.40</td>\n",
              "      <td>6.00</td>\n",
              "      <td>64.56</td>\n",
              "    </tr>\n",
              "    <tr>\n",
              "      <th>75%</th>\n",
              "      <td>4448.00</td>\n",
              "      <td>52302.00</td>\n",
              "      <td>77.00</td>\n",
              "      <td>380.00</td>\n",
              "      <td>62369.00</td>\n",
              "      <td>12.00</td>\n",
              "      <td>1000.00</td>\n",
              "      <td>10.99</td>\n",
              "      <td>16.49</td>\n",
              "      <td>12.00</td>\n",
              "      <td>117.48</td>\n",
              "    </tr>\n",
              "    <tr>\n",
              "      <th>max</th>\n",
              "      <td>9927.00</td>\n",
              "      <td>57222.00</td>\n",
              "      <td>99.00</td>\n",
              "      <td>987.00</td>\n",
              "      <td>999292.00</td>\n",
              "      <td>288.00</td>\n",
              "      <td>9000.00</td>\n",
              "      <td>30.00</td>\n",
              "      <td>31.83</td>\n",
              "      <td>27.00</td>\n",
              "      <td>292.50</td>\n",
              "    </tr>\n",
              "  </tbody>\n",
              "</table>\n",
              "</div>"
            ],
            "text/plain": [
              "      store_number     zip_code  ... bottles_sold sale_dollars\n",
              "count  15067949.00  15067949.00  ...  15067949.00  15067949.00\n",
              "mean       3659.15     51044.22  ...         7.08        80.95\n",
              "std         989.56      3548.01  ...         5.67        64.83\n",
              "min        2106.00      -999.00  ...         1.00         1.34\n",
              "25%        2612.00     50315.00  ...         2.00        27.72\n",
              "50%        3769.00     51058.00  ...         6.00        64.56\n",
              "75%        4448.00     52302.00  ...        12.00       117.48\n",
              "max        9927.00     57222.00  ...        27.00       292.50\n",
              "\n",
              "[8 rows x 11 columns]"
            ]
          },
          "metadata": {
            "tags": []
          },
          "execution_count": 38
        }
      ]
    },
    {
      "cell_type": "code",
      "metadata": {
        "id": "_07W59uX8mUe",
        "colab_type": "code",
        "colab": {}
      },
      "source": [
        "# evaluating the impact of outliers elimination\n",
        "sales_monthly = pd.DataFrame(df['sale_dollars'].groupby(pd.Grouper(freq='M')).sum())\n",
        "sales_monthly['all_sales'] = all_items_df['sale_dollars'].groupby(pd.Grouper(freq='M')).sum()"
      ],
      "execution_count": 0,
      "outputs": []
    },
    {
      "cell_type": "code",
      "metadata": {
        "id": "rJh8DOL9koLE",
        "colab_type": "code",
        "colab": {
          "base_uri": "https://localhost:8080/",
          "height": 331
        },
        "outputId": "a47cdb1e-3851-4970-e626-4ce336d8d80f"
      },
      "source": [
        "fig = plt.figure(figsize=(20, 5))\n",
        "plt.plot(sales_monthly.index, sales_monthly.sale_dollars, color='blue')\n",
        "plt.plot(sales_monthly.index, sales_monthly.all_sales, color='gold')\n",
        "fig.show()"
      ],
      "execution_count": 40,
      "outputs": [
        {
          "output_type": "display_data",
          "data": {
            "image/png": "[encoded data removed]",
            "text/plain": [
              "<Figure size 1440x360 with 1 Axes>"
            ]
          },
          "metadata": {
            "tags": []
          }
        }
      ]
    },
    {
      "cell_type": "markdown",
      "metadata": {
        "id": "tMM6IGR-gzel",
        "colab_type": "text"
      },
      "source": [
        "The figure above shows:\n",
        "1. Strong seasonal patern in original dataset\n",
        "2. Sales ammount is on positive trend\n",
        "3. Timeseries is unstationary, so it should be normalized for further processing\n",
        "4. Outliers, removed from the dataset makes up an important part of sales so can't be easily excluded\n",
        "5. The most differences is in the seasonal peaks - investigation of this point can show which costly alco items are trendy in the specific season\n",
        "6. Line which include all items growth faster than filtered - it can means that consumption of high price drinks grows, or people prefer to by it by bigger groups."
      ]
    },
    {
      "cell_type": "markdown",
      "metadata": {
        "id": "JvTXPy90FNf-",
        "colab_type": "text"
      },
      "source": [
        "# 5. Looking for relations in data"
      ]
    },
    {
      "cell_type": "markdown",
      "metadata": {
        "id": "Aqe9RMSolS6H",
        "colab_type": "text"
      },
      "source": [
        "### Cheking up the original data"
      ]
    },
    {
      "cell_type": "code",
      "metadata": {
        "id": "h-RzA7bNWjo3",
        "colab_type": "code",
        "colab": {}
      },
      "source": [
        "corr_df = all_items_df.corr()"
      ],
      "execution_count": 0,
      "outputs": []
    },
    {
      "cell_type": "code",
      "metadata": {
        "id": "x1NnZvUibf0N",
        "colab_type": "code",
        "outputId": "e45d398f-48f0-4cd7-b7f4-5693cb68faac",
        "colab": {
          "base_uri": "https://localhost:8080/",
          "height": 377
        }
      },
      "source": [
        "corr_df"
      ],
      "execution_count": 42,
      "outputs": [
        {
          "output_type": "execute_result",
          "data": {
            "text/html": [
              "<div>\n",
              "<style scoped>\n",
              "    .dataframe tbody tr th:only-of-type {\n",
              "        vertical-align: middle;\n",
              "    }\n",
              "\n",
              "    .dataframe tbody tr th {\n",
              "        vertical-align: top;\n",
              "    }\n",
              "\n",
              "    .dataframe thead th {\n",
              "        text-align: right;\n",
              "    }\n",
              "</style>\n",
              "<table border=\"1\" class=\"dataframe\">\n",
              "  <thead>\n",
              "    <tr style=\"text-align: right;\">\n",
              "      <th></th>\n",
              "      <th>store_number</th>\n",
              "      <th>zip_code</th>\n",
              "      <th>county_number</th>\n",
              "      <th>vendor_number</th>\n",
              "      <th>item_number</th>\n",
              "      <th>pack</th>\n",
              "      <th>bottle_volume_ml</th>\n",
              "      <th>state_bottle_cost</th>\n",
              "      <th>state_bottle_retail</th>\n",
              "      <th>bottles_sold</th>\n",
              "      <th>sale_dollars</th>\n",
              "    </tr>\n",
              "  </thead>\n",
              "  <tbody>\n",
              "    <tr>\n",
              "      <th>store_number</th>\n",
              "      <td>1.000000</td>\n",
              "      <td>-0.017767</td>\n",
              "      <td>-0.037916</td>\n",
              "      <td>-0.000544</td>\n",
              "      <td>-0.022989</td>\n",
              "      <td>0.107284</td>\n",
              "      <td>-0.059925</td>\n",
              "      <td>-0.046998</td>\n",
              "      <td>-0.047232</td>\n",
              "      <td>0.006470</td>\n",
              "      <td>-0.026241</td>\n",
              "    </tr>\n",
              "    <tr>\n",
              "      <th>zip_code</th>\n",
              "      <td>-0.017767</td>\n",
              "      <td>1.000000</td>\n",
              "      <td>0.588696</td>\n",
              "      <td>0.001093</td>\n",
              "      <td>0.001159</td>\n",
              "      <td>-0.004656</td>\n",
              "      <td>0.003983</td>\n",
              "      <td>0.000693</td>\n",
              "      <td>0.000728</td>\n",
              "      <td>0.000519</td>\n",
              "      <td>-0.000564</td>\n",
              "    </tr>\n",
              "    <tr>\n",
              "      <th>county_number</th>\n",
              "      <td>-0.037916</td>\n",
              "      <td>0.588696</td>\n",
              "      <td>1.000000</td>\n",
              "      <td>0.000201</td>\n",
              "      <td>0.002721</td>\n",
              "      <td>-0.006469</td>\n",
              "      <td>0.000576</td>\n",
              "      <td>0.005093</td>\n",
              "      <td>0.005142</td>\n",
              "      <td>0.005845</td>\n",
              "      <td>0.006042</td>\n",
              "    </tr>\n",
              "    <tr>\n",
              "      <th>vendor_number</th>\n",
              "      <td>-0.000544</td>\n",
              "      <td>0.001093</td>\n",
              "      <td>0.000201</td>\n",
              "      <td>1.000000</td>\n",
              "      <td>0.126100</td>\n",
              "      <td>-0.043165</td>\n",
              "      <td>0.018487</td>\n",
              "      <td>-0.000555</td>\n",
              "      <td>-0.000826</td>\n",
              "      <td>0.009725</td>\n",
              "      <td>-0.007901</td>\n",
              "    </tr>\n",
              "    <tr>\n",
              "      <th>item_number</th>\n",
              "      <td>-0.022989</td>\n",
              "      <td>0.001159</td>\n",
              "      <td>0.002721</td>\n",
              "      <td>0.126100</td>\n",
              "      <td>1.000000</td>\n",
              "      <td>-0.022676</td>\n",
              "      <td>-0.022679</td>\n",
              "      <td>0.086304</td>\n",
              "      <td>0.086172</td>\n",
              "      <td>0.018725</td>\n",
              "      <td>0.025121</td>\n",
              "    </tr>\n",
              "    <tr>\n",
              "      <th>pack</th>\n",
              "      <td>0.107284</td>\n",
              "      <td>-0.004656</td>\n",
              "      <td>-0.006469</td>\n",
              "      <td>-0.043165</td>\n",
              "      <td>-0.022676</td>\n",
              "      <td>1.000000</td>\n",
              "      <td>-0.446527</td>\n",
              "      <td>-0.251535</td>\n",
              "      <td>-0.251929</td>\n",
              "      <td>0.128027</td>\n",
              "      <td>-0.049512</td>\n",
              "    </tr>\n",
              "    <tr>\n",
              "      <th>bottle_volume_ml</th>\n",
              "      <td>-0.059925</td>\n",
              "      <td>0.003983</td>\n",
              "      <td>0.000576</td>\n",
              "      <td>0.018487</td>\n",
              "      <td>-0.022679</td>\n",
              "      <td>-0.446527</td>\n",
              "      <td>1.000000</td>\n",
              "      <td>0.459605</td>\n",
              "      <td>0.459969</td>\n",
              "      <td>-0.014233</td>\n",
              "      <td>0.066640</td>\n",
              "    </tr>\n",
              "    <tr>\n",
              "      <th>state_bottle_cost</th>\n",
              "      <td>-0.046998</td>\n",
              "      <td>0.000693</td>\n",
              "      <td>0.005093</td>\n",
              "      <td>-0.000555</td>\n",
              "      <td>0.086304</td>\n",
              "      <td>-0.251535</td>\n",
              "      <td>0.459605</td>\n",
              "      <td>1.000000</td>\n",
              "      <td>0.999978</td>\n",
              "      <td>-0.041502</td>\n",
              "      <td>0.104788</td>\n",
              "    </tr>\n",
              "    <tr>\n",
              "      <th>state_bottle_retail</th>\n",
              "      <td>-0.047232</td>\n",
              "      <td>0.000728</td>\n",
              "      <td>0.005142</td>\n",
              "      <td>-0.000826</td>\n",
              "      <td>0.086172</td>\n",
              "      <td>-0.251929</td>\n",
              "      <td>0.459969</td>\n",
              "      <td>0.999978</td>\n",
              "      <td>1.000000</td>\n",
              "      <td>-0.041496</td>\n",
              "      <td>0.104838</td>\n",
              "    </tr>\n",
              "    <tr>\n",
              "      <th>bottles_sold</th>\n",
              "      <td>0.006470</td>\n",
              "      <td>0.000519</td>\n",
              "      <td>0.005845</td>\n",
              "      <td>0.009725</td>\n",
              "      <td>0.018725</td>\n",
              "      <td>0.128027</td>\n",
              "      <td>-0.014233</td>\n",
              "      <td>-0.041502</td>\n",
              "      <td>-0.041496</td>\n",
              "      <td>1.000000</td>\n",
              "      <td>0.824695</td>\n",
              "    </tr>\n",
              "    <tr>\n",
              "      <th>sale_dollars</th>\n",
              "      <td>-0.026241</td>\n",
              "      <td>-0.000564</td>\n",
              "      <td>0.006042</td>\n",
              "      <td>-0.007901</td>\n",
              "      <td>0.025121</td>\n",
              "      <td>-0.049512</td>\n",
              "      <td>0.066640</td>\n",
              "      <td>0.104788</td>\n",
              "      <td>0.104838</td>\n",
              "      <td>0.824695</td>\n",
              "      <td>1.000000</td>\n",
              "    </tr>\n",
              "  </tbody>\n",
              "</table>\n",
              "</div>"
            ],
            "text/plain": [
              "                     store_number  zip_code  ...  bottles_sold  sale_dollars\n",
              "store_number             1.000000 -0.017767  ...      0.006470     -0.026241\n",
              "zip_code                -0.017767  1.000000  ...      0.000519     -0.000564\n",
              "county_number           -0.037916  0.588696  ...      0.005845      0.006042\n",
              "vendor_number           -0.000544  0.001093  ...      0.009725     -0.007901\n",
              "item_number             -0.022989  0.001159  ...      0.018725      0.025121\n",
              "pack                     0.107284 -0.004656  ...      0.128027     -0.049512\n",
              "bottle_volume_ml        -0.059925  0.003983  ...     -0.014233      0.066640\n",
              "state_bottle_cost       -0.046998  0.000693  ...     -0.041502      0.104788\n",
              "state_bottle_retail     -0.047232  0.000728  ...     -0.041496      0.104838\n",
              "bottles_sold             0.006470  0.000519  ...      1.000000      0.824695\n",
              "sale_dollars            -0.026241 -0.000564  ...      0.824695      1.000000\n",
              "\n",
              "[11 rows x 11 columns]"
            ]
          },
          "metadata": {
            "tags": []
          },
          "execution_count": 42
        }
      ]
    },
    {
      "cell_type": "code",
      "metadata": {
        "id": "eqnyVHq6gHB7",
        "colab_type": "code",
        "colab": {}
      },
      "source": [
        "mask = np.zeros_like(corr_df.values)\n",
        "mask[np.triu_indices_from(mask)] = True"
      ],
      "execution_count": 0,
      "outputs": []
    },
    {
      "cell_type": "code",
      "metadata": {
        "id": "FwB0tNVXCP18",
        "colab_type": "code",
        "outputId": "8ff9738e-4a80-42d9-9eb8-0cbd02dd9858",
        "colab": {
          "base_uri": "https://localhost:8080/",
          "height": 616
        }
      },
      "source": [
        "f, ax = plt.subplots(figsize=(11, 9))\n",
        "cmap = sns.diverging_palette(220, 10, as_cmap=True)\n",
        "sns.heatmap(corr_df, cmap=cmap, center=0,\n",
        "            square=True, linewidths=.5, cbar_kws={\"shrink\": .5}, annot=True, mask=mask)\n",
        "f.show()"
      ],
      "execution_count": 44,
      "outputs": [
        {
          "output_type": "display_data",
          "data": {
            "image/png": "[encoded data removed]",
            "text/plain": [
              "<Figure size 792x648 with 2 Axes>"
            ]
          },
          "metadata": {
            "tags": []
          }
        }
      ]
    },
    {
      "cell_type": "code",
      "metadata": {
        "id": "9Sk2OhV_lr4h",
        "colab_type": "code",
        "colab": {
          "base_uri": "https://localhost:8080/",
          "height": 334
        },
        "outputId": "2e7c377e-74c7-4e03-bdf9-d67403f1f2fd"
      },
      "source": [
        "fig = plt.figure(figsize=(20, 5))\n",
        "plt.subplot(1, 2, 1)\n",
        "sns.distplot(all_items_df.sale_dollars)\n",
        "plt.subplot(1, 2, 2)\n",
        "sns.distplot(all_items_df.bottles_sold)\n",
        "fig.show()"
      ],
      "execution_count": 45,
      "outputs": [
        {
          "output_type": "display_data",
          "data": {
            "image/png": "[encoded data removed]",
            "text/plain": [
              "<Figure size 1440x360 with 2 Axes>"
            ]
          },
          "metadata": {
            "tags": []
          }
        }
      ]
    },
    {
      "cell_type": "markdown",
      "metadata": {
        "id": "v3QuUQ7ou-Pn",
        "colab_type": "text"
      },
      "source": [
        "The original data is totaly skewed and conatians huge outliers"
      ]
    },
    {
      "cell_type": "markdown",
      "metadata": {
        "id": "czOrCXRtlhCK",
        "colab_type": "text"
      },
      "source": [
        "### Checking up the filtered data"
      ]
    },
    {
      "cell_type": "code",
      "metadata": {
        "id": "tQhUATu4oIhS",
        "colab_type": "code",
        "colab": {}
      },
      "source": [
        "corr_df = df.corr()"
      ],
      "execution_count": 0,
      "outputs": []
    },
    {
      "cell_type": "code",
      "metadata": {
        "id": "vmuAUMpdoJO6",
        "colab_type": "code",
        "colab": {
          "base_uri": "https://localhost:8080/",
          "height": 616
        },
        "outputId": "6255e2f8-5359-435a-f9ea-bc5451bf1218"
      },
      "source": [
        "f, ax = plt.subplots(figsize=(11, 9))\n",
        "cmap = sns.diverging_palette(220, 10, as_cmap=True)\n",
        "sns.heatmap(corr_df, cmap=cmap, center=0,\n",
        "            square=True, linewidths=.5, cbar_kws={\"shrink\": .5}, annot=True, mask=mask)\n",
        "f.show()"
      ],
      "execution_count": 47,
      "outputs": [
        {
          "output_type": "display_data",
          "data": {
            "image/png": "[encoded data removed]",
            "text/plain": [
              "<Figure size 792x648 with 2 Axes>"
            ]
          },
          "metadata": {
            "tags": []
          }
        }
      ]
    },
    {
      "cell_type": "markdown",
      "metadata": {
        "id": "L4QUCfzW8OSP",
        "colab_type": "text"
      },
      "source": [
        "And here is few interesting correlations:\n",
        "1. First thing - strong negative correlation between bottle volume and q-ty of bottles in pack\n",
        "2. Also there in negative correlation between bottle cost and q-ty in pack."
      ]
    },
    {
      "cell_type": "code",
      "metadata": {
        "id": "7PfGPKC8oJoM",
        "colab_type": "code",
        "colab": {
          "base_uri": "https://localhost:8080/",
          "height": 320
        },
        "outputId": "17fdcacd-4757-430a-af30-1748701f31b7"
      },
      "source": [
        "fig = plt.figure(figsize=(20, 5))\n",
        "plt.subplot(1, 3, 1)\n",
        "plt.hist(df.sale_dollars, bins=15, normed=True)\n",
        "plt.subplot(1, 3, 2)\n",
        "plt.hist(df.bottles_sold, bins=15, normed=True)\n",
        "plt.subplot(1, 3, 3)\n",
        "plt.hist(df.state_bottle_retail, bins=15, normed=True)\n",
        "fig.show()"
      ],
      "execution_count": 76,
      "outputs": [
        {
          "output_type": "display_data",
          "data": {
            "image/png": "[encoded data removed]",
            "text/plain": [
              "<Figure size 1440x360 with 3 Axes>"
            ]
          },
          "metadata": {
            "tags": []
          }
        }
      ]
    },
    {
      "cell_type": "markdown",
      "metadata": {
        "id": "uUmjR_FJ7q78",
        "colab_type": "text"
      },
      "source": [
        "Distribution of both dependent variables are skewed, in case of bottles - bimodal. Retail cost distributed close to normal, but also skewed."
      ]
    }
  ]
}